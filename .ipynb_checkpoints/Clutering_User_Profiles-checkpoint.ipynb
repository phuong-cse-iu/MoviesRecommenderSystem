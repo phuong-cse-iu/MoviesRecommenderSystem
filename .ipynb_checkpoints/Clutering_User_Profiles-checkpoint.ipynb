{
 "cells": [
  {
   "cell_type": "code",
   "execution_count": 1,
   "metadata": {
    "collapsed": true
   },
   "outputs": [],
   "source": [
    "import pandas as pd\n",
    "import seaborn as sns\n",
    "%matplotlib inline"
   ]
  },
  {
   "cell_type": "code",
   "execution_count": 2,
   "metadata": {
    "collapsed": false
   },
   "outputs": [],
   "source": [
    "user_profile = pd.read_csv('ratings.csv')\n",
    "movies = pd.read_csv('movies.csv')"
   ]
  },
  {
   "cell_type": "code",
   "execution_count": 166,
   "metadata": {
    "collapsed": false
   },
   "outputs": [],
   "source": [
    "import numpy as np"
   ]
  },
  {
   "cell_type": "code",
   "execution_count": null,
   "metadata": {
    "collapsed": false
   },
   "outputs": [],
   "source": []
  },
  {
   "cell_type": "code",
   "execution_count": 3,
   "metadata": {
    "collapsed": false,
    "scrolled": true
   },
   "outputs": [
    {
     "data": {
      "text/plain": [
       "{'(no genres listed)',\n",
       " 'Action',\n",
       " 'Adventure',\n",
       " 'Animation',\n",
       " 'Children',\n",
       " 'Comedy',\n",
       " 'Crime',\n",
       " 'Documentary',\n",
       " 'Drama',\n",
       " 'Fantasy',\n",
       " 'Film-Noir',\n",
       " 'Horror',\n",
       " 'IMAX',\n",
       " 'Musical',\n",
       " 'Mystery',\n",
       " 'Romance',\n",
       " 'Sci-Fi',\n",
       " 'Thriller',\n",
       " 'War',\n",
       " 'Western'}"
      ]
     },
     "execution_count": 3,
     "metadata": {},
     "output_type": "execute_result"
    }
   ],
   "source": [
    "# retrieve genres\n",
    "def retrieve_genres(df):\n",
    "    unique_genres = set()\n",
    "\n",
    "    for genres in df['genres'].unique():\n",
    "        for genre in genres.split('|'):\n",
    "            unique_genres.add(genre)\n",
    "    return unique_genres\n",
    "# unique_genres\n",
    "retrieve_genres(movies)"
   ]
  },
  {
   "cell_type": "code",
   "execution_count": null,
   "metadata": {
    "collapsed": false
   },
   "outputs": [],
   "source": [
    "user_profile.head()\n",
    "\n",
    "type(user_profile['userId'].nunique())"
   ]
  },
  {
   "cell_type": "code",
   "execution_count": null,
   "metadata": {
    "collapsed": false
   },
   "outputs": [],
   "source": [
    "user_movies['Action'] = user_movies['genrese'].apply(lambda x: x)"
   ]
  },
  {
   "cell_type": "code",
   "execution_count": 44,
   "metadata": {
    "collapsed": false
   },
   "outputs": [
    {
     "data": {
      "text/plain": [
       "16"
      ]
     },
     "execution_count": 44,
     "metadata": {},
     "output_type": "execute_result"
    }
   ],
   "source": [
    "len(user_movies[(user_movies['userId'] == 3) & (user_movies['genres'].apply(lambda genre: 'Action' in takeGenres(genre)))])"
   ]
  },
  {
   "cell_type": "code",
   "execution_count": null,
   "metadata": {
    "collapsed": false
   },
   "outputs": [],
   "source": []
  },
  {
   "cell_type": "code",
   "execution_count": null,
   "metadata": {
    "collapsed": false
   },
   "outputs": [],
   "source": []
  },
  {
   "cell_type": "code",
   "execution_count": null,
   "metadata": {
    "collapsed": false
   },
   "outputs": [],
   "source": []
  },
  {
   "cell_type": "code",
   "execution_count": 3,
   "metadata": {
    "collapsed": false
   },
   "outputs": [],
   "source": [
    "user_movies = pd.merge(left=movies, right=user_profile, on='movieId')"
   ]
  },
  {
   "cell_type": "code",
   "execution_count": null,
   "metadata": {
    "collapsed": false
   },
   "outputs": [],
   "source": []
  },
  {
   "cell_type": "code",
   "execution_count": null,
   "metadata": {
    "collapsed": false
   },
   "outputs": [],
   "source": []
  },
  {
   "cell_type": "code",
   "execution_count": null,
   "metadata": {
    "collapsed": false
   },
   "outputs": [],
   "source": []
  },
  {
   "cell_type": "code",
   "execution_count": 5,
   "metadata": {
    "collapsed": true
   },
   "outputs": [],
   "source": [
    "def takeGenres(genres):\n",
    "    return genres.split('|')\n",
    "\n"
   ]
  },
  {
   "cell_type": "code",
   "execution_count": null,
   "metadata": {
    "collapsed": true
   },
   "outputs": [],
   "source": []
  },
  {
   "cell_type": "code",
   "execution_count": null,
   "metadata": {
    "collapsed": true
   },
   "outputs": [],
   "source": []
  },
  {
   "cell_type": "code",
   "execution_count": null,
   "metadata": {
    "collapsed": false
   },
   "outputs": [],
   "source": []
  },
  {
   "cell_type": "code",
   "execution_count": null,
   "metadata": {
    "collapsed": false
   },
   "outputs": [],
   "source": []
  },
  {
   "cell_type": "code",
   "execution_count": null,
   "metadata": {
    "collapsed": false
   },
   "outputs": [],
   "source": [
    "\n"
   ]
  },
  {
   "cell_type": "code",
   "execution_count": 16,
   "metadata": {
    "collapsed": false
   },
   "outputs": [],
   "source": []
  },
  {
   "cell_type": "code",
   "execution_count": 18,
   "metadata": {
    "collapsed": false
   },
   "outputs": [
    {
     "data": {
      "text/plain": [
       "userId\n",
       "1    3.445613\n",
       "2    3.445613\n",
       "3    3.445613\n",
       "4    3.445613\n",
       "5    3.445613\n",
       "Name: Action, dtype: float64"
      ]
     },
     "execution_count": 18,
     "metadata": {},
     "output_type": "execute_result"
    }
   ],
   "source": []
  },
  {
   "cell_type": "code",
   "execution_count": 19,
   "metadata": {
    "collapsed": true
   },
   "outputs": [],
   "source": []
  },
  {
   "cell_type": "code",
   "execution_count": 20,
   "metadata": {
    "collapsed": true
   },
   "outputs": [],
   "source": []
  },
  {
   "cell_type": "code",
   "execution_count": 21,
   "metadata": {
    "collapsed": false
   },
   "outputs": [],
   "source": []
  },
  {
   "cell_type": "code",
   "execution_count": 22,
   "metadata": {
    "collapsed": true
   },
   "outputs": [],
   "source": []
  },
  {
   "cell_type": "code",
   "execution_count": null,
   "metadata": {
    "collapsed": false
   },
   "outputs": [],
   "source": [
    "\n"
   ]
  },
  {
   "cell_type": "code",
   "execution_count": null,
   "metadata": {
    "collapsed": true
   },
   "outputs": [],
   "source": []
  },
  {
   "cell_type": "code",
   "execution_count": 26,
   "metadata": {
    "collapsed": true
   },
   "outputs": [],
   "source": []
  },
  {
   "cell_type": "code",
   "execution_count": 27,
   "metadata": {
    "collapsed": true
   },
   "outputs": [],
   "source": []
  },
  {
   "cell_type": "code",
   "execution_count": 29,
   "metadata": {
    "collapsed": true
   },
   "outputs": [],
   "source": []
  },
  {
   "cell_type": "code",
   "execution_count": 32,
   "metadata": {
    "collapsed": false
   },
   "outputs": [
    {
     "data": {
      "text/plain": [
       "userId\n",
       "1    3.813299\n",
       "2    3.813299\n",
       "3    3.813299\n",
       "4    3.813299\n",
       "5    3.813299\n",
       "Name: Documentary, dtype: float64"
      ]
     },
     "execution_count": 32,
     "metadata": {},
     "output_type": "execute_result"
    }
   ],
   "source": []
  },
  {
   "cell_type": "code",
   "execution_count": 60,
   "metadata": {
    "collapsed": true
   },
   "outputs": [],
   "source": [
    "from sklearn.preprocessing import StandardScaler\n",
    "scaler = StandardScaler()"
   ]
  },
  {
   "cell_type": "code",
   "execution_count": 61,
   "metadata": {
    "collapsed": false
   },
   "outputs": [
    {
     "data": {
      "text/plain": [
       "StandardScaler(copy=True, with_mean=True, with_std=True)"
      ]
     },
     "execution_count": 61,
     "metadata": {},
     "output_type": "execute_result"
    }
   ],
   "source": []
  },
  {
   "cell_type": "code",
   "execution_count": 62,
   "metadata": {
    "collapsed": true
   },
   "outputs": [],
   "source": []
  },
  {
   "cell_type": "code",
   "execution_count": 63,
   "metadata": {
    "collapsed": true
   },
   "outputs": [],
   "source": []
  },
  {
   "cell_type": "code",
   "execution_count": null,
   "metadata": {
    "collapsed": false
   },
   "outputs": [],
   "source": []
  },
  {
   "cell_type": "code",
   "execution_count": 36,
   "metadata": {
    "collapsed": true
   },
   "outputs": [],
   "source": []
  },
  {
   "cell_type": "code",
   "execution_count": 37,
   "metadata": {
    "collapsed": true
   },
   "outputs": [],
   "source": []
  },
  {
   "cell_type": "code",
   "execution_count": 38,
   "metadata": {
    "collapsed": true
   },
   "outputs": [],
   "source": []
  },
  {
   "cell_type": "code",
   "execution_count": null,
   "metadata": {
    "collapsed": false
   },
   "outputs": [],
   "source": []
  },
  {
   "cell_type": "code",
   "execution_count": 40,
   "metadata": {
    "collapsed": true
   },
   "outputs": [],
   "source": []
  },
  {
   "cell_type": "code",
   "execution_count": 41,
   "metadata": {
    "collapsed": true
   },
   "outputs": [],
   "source": []
  },
  {
   "cell_type": "code",
   "execution_count": 75,
   "metadata": {
    "collapsed": false
   },
   "outputs": [
    {
     "data": {
      "text/plain": [
       "2580     3.0\n",
       "2581     2.0\n",
       "2582     2.5\n",
       "2583     4.5\n",
       "2584     2.0\n",
       "2585     3.0\n",
       "2586     5.0\n",
       "2587     3.0\n",
       "2588     3.0\n",
       "2589     4.5\n",
       "2590     3.0\n",
       "2591     3.0\n",
       "2592     3.0\n",
       "2593     3.0\n",
       "2594     3.0\n",
       "2595     3.0\n",
       "2596     3.5\n",
       "2597     2.0\n",
       "2598     4.0\n",
       "2599     3.0\n",
       "2600     2.0\n",
       "2601     2.5\n",
       "2602     1.0\n",
       "2603     2.5\n",
       "2604     3.5\n",
       "2605     3.0\n",
       "2606     4.0\n",
       "2607     3.0\n",
       "2608     4.0\n",
       "2609     3.5\n",
       "        ... \n",
       "97484    1.0\n",
       "97485    5.0\n",
       "97486    3.5\n",
       "97487    2.5\n",
       "97488    4.0\n",
       "97489    4.0\n",
       "97491    2.5\n",
       "97492    2.5\n",
       "97518    4.0\n",
       "97958    1.5\n",
       "98205    3.5\n",
       "98206    3.5\n",
       "98207    3.5\n",
       "98208    4.0\n",
       "98209    4.5\n",
       "98210    4.5\n",
       "98211    4.5\n",
       "98212    5.0\n",
       "98213    4.0\n",
       "98214    4.0\n",
       "98215    3.0\n",
       "98216    4.5\n",
       "98381    4.5\n",
       "98441    4.0\n",
       "98617    4.0\n",
       "98933    4.0\n",
       "99260    1.0\n",
       "99261    4.5\n",
       "99262    2.5\n",
       "99263    2.5\n",
       "Name: rating, dtype: float64"
      ]
     },
     "execution_count": 75,
     "metadata": {},
     "output_type": "execute_result"
    }
   ],
   "source": [
    "group"
   ]
  },
  {
   "cell_type": "code",
   "execution_count": 234,
   "metadata": {
    "collapsed": false
   },
   "outputs": [],
   "source": [
    "group = user_movies[(user_movies['genres'].apply(lambda genre: 'Musical' in takeGenres(genre)))][['rating', 'userId']]"
   ]
  },
  {
   "cell_type": "code",
   "execution_count": 235,
   "metadata": {
    "collapsed": false
   },
   "outputs": [],
   "source": [
    "groupByUserId = group.groupby('userId')"
   ]
  },
  {
   "cell_type": "code",
   "execution_count": 241,
   "metadata": {
    "collapsed": false
   },
   "outputs": [],
   "source": [
    "user_vector['Musical'] = groupByUserId['rating'].mean()"
   ]
  },
  {
   "cell_type": "code",
   "execution_count": null,
   "metadata": {
    "collapsed": true
   },
   "outputs": [],
   "source": []
  },
  {
   "cell_type": "code",
   "execution_count": null,
   "metadata": {
    "collapsed": false
   },
   "outputs": [],
   "source": []
  },
  {
   "cell_type": "code",
   "execution_count": null,
   "metadata": {
    "collapsed": false
   },
   "outputs": [],
   "source": []
  },
  {
   "cell_type": "code",
   "execution_count": 185,
   "metadata": {
    "collapsed": false
   },
   "outputs": [],
   "source": [
    "groupByUserId = group.groupby('userId')"
   ]
  },
  {
   "cell_type": "code",
   "execution_count": 199,
   "metadata": {
    "collapsed": false
   },
   "outputs": [
    {
     "data": {
      "text/plain": [
       "pandas.core.groupby.SeriesGroupBy"
      ]
     },
     "execution_count": 199,
     "metadata": {},
     "output_type": "execute_result"
    }
   ],
   "source": [
    "type(groupByUserId['rating'])"
   ]
  },
  {
   "cell_type": "code",
   "execution_count": 200,
   "metadata": {
    "collapsed": true
   },
   "outputs": [],
   "source": [
    "def normalize(x):\n",
    "    return (x - group['rating'].mean())/ group['rating'].std()"
   ]
  },
  {
   "cell_type": "code",
   "execution_count": 223,
   "metadata": {
    "collapsed": false
   },
   "outputs": [
    {
     "data": {
      "text/plain": [
       "550"
      ]
     },
     "execution_count": 223,
     "metadata": {},
     "output_type": "execute_result"
    }
   ],
   "source": [
    "len(groupByUserId['rating'])"
   ]
  },
  {
   "cell_type": "code",
   "execution_count": 224,
   "metadata": {
    "collapsed": false
   },
   "outputs": [
    {
     "data": {
      "text/plain": [
       "4722"
      ]
     },
     "execution_count": 224,
     "metadata": {},
     "output_type": "execute_result"
    }
   ],
   "source": [
    "len(groupByUserId['rating'].apply(normalize))"
   ]
  },
  {
   "cell_type": "code",
   "execution_count": 315,
   "metadata": {
    "collapsed": false
   },
   "outputs": [],
   "source": [
    "group = user_movies[(user_movies['genres'].apply(lambda genre: 'Musical' in takeGenres(genre)))][['rating', 'userId']]"
   ]
  },
  {
   "cell_type": "code",
   "execution_count": 316,
   "metadata": {
    "collapsed": false
   },
   "outputs": [],
   "source": [
    "user_vector['Musical'] = group.groupby('userId')['rating'].mean()"
   ]
  },
  {
   "cell_type": "code",
   "execution_count": 317,
   "metadata": {
    "collapsed": false
   },
   "outputs": [
    {
     "data": {
      "text/html": [
       "<div>\n",
       "<table border=\"1\" class=\"dataframe\">\n",
       "  <thead>\n",
       "    <tr style=\"text-align: right;\">\n",
       "      <th></th>\n",
       "      <th>Action</th>\n",
       "      <th>Adventure</th>\n",
       "      <th>Animation</th>\n",
       "      <th>Children</th>\n",
       "      <th>Comedy</th>\n",
       "      <th>Crime</th>\n",
       "      <th>Documentary</th>\n",
       "      <th>Drama</th>\n",
       "      <th>Fantasy</th>\n",
       "      <th>Film-Noir</th>\n",
       "      <th>Horror</th>\n",
       "      <th>IMAX</th>\n",
       "      <th>Musical</th>\n",
       "      <th>Mystery</th>\n",
       "      <th>Romance</th>\n",
       "      <th>Sci-Fi</th>\n",
       "      <th>Thriller</th>\n",
       "      <th>War</th>\n",
       "      <th>Western</th>\n",
       "      <th>(no genres listed)</th>\n",
       "    </tr>\n",
       "    <tr>\n",
       "      <th>userId</th>\n",
       "      <th></th>\n",
       "      <th></th>\n",
       "      <th></th>\n",
       "      <th></th>\n",
       "      <th></th>\n",
       "      <th></th>\n",
       "      <th></th>\n",
       "      <th></th>\n",
       "      <th></th>\n",
       "      <th></th>\n",
       "      <th></th>\n",
       "      <th></th>\n",
       "      <th></th>\n",
       "      <th></th>\n",
       "      <th></th>\n",
       "      <th></th>\n",
       "      <th></th>\n",
       "      <th></th>\n",
       "      <th></th>\n",
       "      <th></th>\n",
       "    </tr>\n",
       "  </thead>\n",
       "  <tbody>\n",
       "    <tr>\n",
       "      <th>1</th>\n",
       "      <td>2.800000</td>\n",
       "      <td>2.166667</td>\n",
       "      <td>2.000000</td>\n",
       "      <td>2.500000</td>\n",
       "      <td>2.000000</td>\n",
       "      <td>2.500000</td>\n",
       "      <td>NaN</td>\n",
       "      <td>2.571429</td>\n",
       "      <td>2.125000</td>\n",
       "      <td>NaN</td>\n",
       "      <td>3.000000</td>\n",
       "      <td>NaN</td>\n",
       "      <td>3.000000</td>\n",
       "      <td>NaN</td>\n",
       "      <td>3.500000</td>\n",
       "      <td>2.400000</td>\n",
       "      <td>2.833333</td>\n",
       "      <td>2.000000</td>\n",
       "      <td>3.000000</td>\n",
       "      <td>3.777778</td>\n",
       "    </tr>\n",
       "    <tr>\n",
       "      <th>2</th>\n",
       "      <td>3.315789</td>\n",
       "      <td>3.750000</td>\n",
       "      <td>3.666667</td>\n",
       "      <td>3.500000</td>\n",
       "      <td>3.093750</td>\n",
       "      <td>3.666667</td>\n",
       "      <td>NaN</td>\n",
       "      <td>3.615385</td>\n",
       "      <td>3.400000</td>\n",
       "      <td>NaN</td>\n",
       "      <td>3.500000</td>\n",
       "      <td>4.000000</td>\n",
       "      <td>3.750000</td>\n",
       "      <td>4.000000</td>\n",
       "      <td>3.590909</td>\n",
       "      <td>3.800000</td>\n",
       "      <td>3.333333</td>\n",
       "      <td>3.800000</td>\n",
       "      <td>5.000000</td>\n",
       "      <td>3.777778</td>\n",
       "    </tr>\n",
       "    <tr>\n",
       "      <th>3</th>\n",
       "      <td>3.468750</td>\n",
       "      <td>3.300000</td>\n",
       "      <td>2.875000</td>\n",
       "      <td>2.700000</td>\n",
       "      <td>3.611111</td>\n",
       "      <td>3.700000</td>\n",
       "      <td>3.666667</td>\n",
       "      <td>3.920000</td>\n",
       "      <td>3.000000</td>\n",
       "      <td>NaN</td>\n",
       "      <td>3.375000</td>\n",
       "      <td>2.875000</td>\n",
       "      <td>2.500000</td>\n",
       "      <td>3.750000</td>\n",
       "      <td>3.650000</td>\n",
       "      <td>3.142857</td>\n",
       "      <td>3.545455</td>\n",
       "      <td>4.166667</td>\n",
       "      <td>4.000000</td>\n",
       "      <td>3.777778</td>\n",
       "    </tr>\n",
       "    <tr>\n",
       "      <th>4</th>\n",
       "      <td>4.274194</td>\n",
       "      <td>4.338710</td>\n",
       "      <td>4.708333</td>\n",
       "      <td>4.634146</td>\n",
       "      <td>4.329545</td>\n",
       "      <td>4.157895</td>\n",
       "      <td>4.000000</td>\n",
       "      <td>4.464286</td>\n",
       "      <td>4.567568</td>\n",
       "      <td>5.000000</td>\n",
       "      <td>3.944444</td>\n",
       "      <td>5.000000</td>\n",
       "      <td>4.833333</td>\n",
       "      <td>4.090909</td>\n",
       "      <td>4.500000</td>\n",
       "      <td>4.255814</td>\n",
       "      <td>4.022727</td>\n",
       "      <td>4.750000</td>\n",
       "      <td>3.000000</td>\n",
       "      <td>3.777778</td>\n",
       "    </tr>\n",
       "    <tr>\n",
       "      <th>5</th>\n",
       "      <td>4.000000</td>\n",
       "      <td>3.825000</td>\n",
       "      <td>3.900000</td>\n",
       "      <td>3.892857</td>\n",
       "      <td>3.981818</td>\n",
       "      <td>3.450000</td>\n",
       "      <td>3.666667</td>\n",
       "      <td>3.807692</td>\n",
       "      <td>3.750000</td>\n",
       "      <td>NaN</td>\n",
       "      <td>3.875000</td>\n",
       "      <td>4.000000</td>\n",
       "      <td>4.250000</td>\n",
       "      <td>3.333333</td>\n",
       "      <td>4.081081</td>\n",
       "      <td>4.000000</td>\n",
       "      <td>3.625000</td>\n",
       "      <td>4.000000</td>\n",
       "      <td>NaN</td>\n",
       "      <td>3.777778</td>\n",
       "    </tr>\n",
       "    <tr>\n",
       "      <th>6</th>\n",
       "      <td>3.266667</td>\n",
       "      <td>3.733333</td>\n",
       "      <td>3.500000</td>\n",
       "      <td>3.200000</td>\n",
       "      <td>2.906250</td>\n",
       "      <td>3.500000</td>\n",
       "      <td>NaN</td>\n",
       "      <td>3.550000</td>\n",
       "      <td>3.687500</td>\n",
       "      <td>NaN</td>\n",
       "      <td>3.333333</td>\n",
       "      <td>3.750000</td>\n",
       "      <td>3.000000</td>\n",
       "      <td>2.833333</td>\n",
       "      <td>2.900000</td>\n",
       "      <td>2.750000</td>\n",
       "      <td>2.722222</td>\n",
       "      <td>4.166667</td>\n",
       "      <td>NaN</td>\n",
       "      <td>3.777778</td>\n",
       "    </tr>\n",
       "    <tr>\n",
       "      <th>7</th>\n",
       "      <td>3.285714</td>\n",
       "      <td>3.656250</td>\n",
       "      <td>4.083333</td>\n",
       "      <td>3.785714</td>\n",
       "      <td>3.540541</td>\n",
       "      <td>3.636364</td>\n",
       "      <td>NaN</td>\n",
       "      <td>3.517241</td>\n",
       "      <td>3.307692</td>\n",
       "      <td>NaN</td>\n",
       "      <td>2.500000</td>\n",
       "      <td>3.000000</td>\n",
       "      <td>3.500000</td>\n",
       "      <td>2.500000</td>\n",
       "      <td>2.933333</td>\n",
       "      <td>3.360000</td>\n",
       "      <td>3.000000</td>\n",
       "      <td>3.600000</td>\n",
       "      <td>2.500000</td>\n",
       "      <td>3.777778</td>\n",
       "    </tr>\n",
       "    <tr>\n",
       "      <th>8</th>\n",
       "      <td>3.967742</td>\n",
       "      <td>3.863636</td>\n",
       "      <td>3.500000</td>\n",
       "      <td>3.500000</td>\n",
       "      <td>3.796875</td>\n",
       "      <td>4.200000</td>\n",
       "      <td>3.000000</td>\n",
       "      <td>3.767241</td>\n",
       "      <td>3.500000</td>\n",
       "      <td>3.500000</td>\n",
       "      <td>3.857143</td>\n",
       "      <td>4.000000</td>\n",
       "      <td>3.500000</td>\n",
       "      <td>4.307692</td>\n",
       "      <td>3.717391</td>\n",
       "      <td>4.038462</td>\n",
       "      <td>4.075758</td>\n",
       "      <td>4.083333</td>\n",
       "      <td>NaN</td>\n",
       "      <td>3.777778</td>\n",
       "    </tr>\n",
       "    <tr>\n",
       "      <th>9</th>\n",
       "      <td>3.250000</td>\n",
       "      <td>3.166667</td>\n",
       "      <td>3.333333</td>\n",
       "      <td>3.000000</td>\n",
       "      <td>3.714286</td>\n",
       "      <td>3.888889</td>\n",
       "      <td>NaN</td>\n",
       "      <td>4.000000</td>\n",
       "      <td>3.600000</td>\n",
       "      <td>NaN</td>\n",
       "      <td>4.000000</td>\n",
       "      <td>NaN</td>\n",
       "      <td>4.000000</td>\n",
       "      <td>3.500000</td>\n",
       "      <td>3.875000</td>\n",
       "      <td>4.250000</td>\n",
       "      <td>3.600000</td>\n",
       "      <td>3.666667</td>\n",
       "      <td>NaN</td>\n",
       "      <td>3.777778</td>\n",
       "    </tr>\n",
       "    <tr>\n",
       "      <th>10</th>\n",
       "      <td>3.666667</td>\n",
       "      <td>3.923077</td>\n",
       "      <td>NaN</td>\n",
       "      <td>NaN</td>\n",
       "      <td>3.583333</td>\n",
       "      <td>3.571429</td>\n",
       "      <td>NaN</td>\n",
       "      <td>4.066667</td>\n",
       "      <td>4.500000</td>\n",
       "      <td>NaN</td>\n",
       "      <td>3.428571</td>\n",
       "      <td>NaN</td>\n",
       "      <td>3.000000</td>\n",
       "      <td>3.750000</td>\n",
       "      <td>3.857143</td>\n",
       "      <td>3.875000</td>\n",
       "      <td>3.500000</td>\n",
       "      <td>4.000000</td>\n",
       "      <td>2.000000</td>\n",
       "      <td>3.777778</td>\n",
       "    </tr>\n",
       "    <tr>\n",
       "      <th>11</th>\n",
       "      <td>4.192308</td>\n",
       "      <td>4.272727</td>\n",
       "      <td>NaN</td>\n",
       "      <td>3.500000</td>\n",
       "      <td>3.700000</td>\n",
       "      <td>4.291667</td>\n",
       "      <td>3.916667</td>\n",
       "      <td>4.131579</td>\n",
       "      <td>4.000000</td>\n",
       "      <td>4.000000</td>\n",
       "      <td>2.000000</td>\n",
       "      <td>4.416667</td>\n",
       "      <td>NaN</td>\n",
       "      <td>4.400000</td>\n",
       "      <td>4.500000</td>\n",
       "      <td>4.625000</td>\n",
       "      <td>4.033333</td>\n",
       "      <td>4.500000</td>\n",
       "      <td>5.000000</td>\n",
       "      <td>3.777778</td>\n",
       "    </tr>\n",
       "    <tr>\n",
       "      <th>12</th>\n",
       "      <td>3.214286</td>\n",
       "      <td>2.600000</td>\n",
       "      <td>1.500000</td>\n",
       "      <td>1.400000</td>\n",
       "      <td>2.714286</td>\n",
       "      <td>3.250000</td>\n",
       "      <td>5.000000</td>\n",
       "      <td>2.760000</td>\n",
       "      <td>2.000000</td>\n",
       "      <td>NaN</td>\n",
       "      <td>3.750000</td>\n",
       "      <td>NaN</td>\n",
       "      <td>2.666667</td>\n",
       "      <td>3.333333</td>\n",
       "      <td>2.888889</td>\n",
       "      <td>2.615385</td>\n",
       "      <td>3.500000</td>\n",
       "      <td>NaN</td>\n",
       "      <td>2.500000</td>\n",
       "      <td>3.777778</td>\n",
       "    </tr>\n",
       "    <tr>\n",
       "      <th>13</th>\n",
       "      <td>3.750000</td>\n",
       "      <td>3.850000</td>\n",
       "      <td>4.000000</td>\n",
       "      <td>3.884615</td>\n",
       "      <td>3.568182</td>\n",
       "      <td>3.937500</td>\n",
       "      <td>NaN</td>\n",
       "      <td>3.964286</td>\n",
       "      <td>3.818182</td>\n",
       "      <td>NaN</td>\n",
       "      <td>3.000000</td>\n",
       "      <td>4.100000</td>\n",
       "      <td>3.666667</td>\n",
       "      <td>3.625000</td>\n",
       "      <td>3.900000</td>\n",
       "      <td>3.583333</td>\n",
       "      <td>3.250000</td>\n",
       "      <td>4.400000</td>\n",
       "      <td>3.166667</td>\n",
       "      <td>3.777778</td>\n",
       "    </tr>\n",
       "    <tr>\n",
       "      <th>14</th>\n",
       "      <td>2.857143</td>\n",
       "      <td>3.125000</td>\n",
       "      <td>2.800000</td>\n",
       "      <td>2.750000</td>\n",
       "      <td>3.000000</td>\n",
       "      <td>NaN</td>\n",
       "      <td>NaN</td>\n",
       "      <td>2.000000</td>\n",
       "      <td>2.750000</td>\n",
       "      <td>NaN</td>\n",
       "      <td>NaN</td>\n",
       "      <td>NaN</td>\n",
       "      <td>2.000000</td>\n",
       "      <td>NaN</td>\n",
       "      <td>3.000000</td>\n",
       "      <td>3.428571</td>\n",
       "      <td>3.000000</td>\n",
       "      <td>NaN</td>\n",
       "      <td>NaN</td>\n",
       "      <td>3.777778</td>\n",
       "    </tr>\n",
       "    <tr>\n",
       "      <th>15</th>\n",
       "      <td>2.478858</td>\n",
       "      <td>2.466981</td>\n",
       "      <td>2.322368</td>\n",
       "      <td>2.107595</td>\n",
       "      <td>2.540931</td>\n",
       "      <td>2.740614</td>\n",
       "      <td>3.134831</td>\n",
       "      <td>2.718831</td>\n",
       "      <td>2.153846</td>\n",
       "      <td>3.250000</td>\n",
       "      <td>2.368421</td>\n",
       "      <td>2.331395</td>\n",
       "      <td>2.303030</td>\n",
       "      <td>2.704545</td>\n",
       "      <td>2.605802</td>\n",
       "      <td>2.513011</td>\n",
       "      <td>2.609504</td>\n",
       "      <td>2.625000</td>\n",
       "      <td>2.600000</td>\n",
       "      <td>3.777778</td>\n",
       "    </tr>\n",
       "    <tr>\n",
       "      <th>16</th>\n",
       "      <td>3.750000</td>\n",
       "      <td>3.750000</td>\n",
       "      <td>NaN</td>\n",
       "      <td>NaN</td>\n",
       "      <td>4.136364</td>\n",
       "      <td>4.000000</td>\n",
       "      <td>NaN</td>\n",
       "      <td>4.142857</td>\n",
       "      <td>3.000000</td>\n",
       "      <td>NaN</td>\n",
       "      <td>NaN</td>\n",
       "      <td>NaN</td>\n",
       "      <td>NaN</td>\n",
       "      <td>4.500000</td>\n",
       "      <td>4.208333</td>\n",
       "      <td>4.200000</td>\n",
       "      <td>4.000000</td>\n",
       "      <td>4.000000</td>\n",
       "      <td>4.000000</td>\n",
       "      <td>3.777778</td>\n",
       "    </tr>\n",
       "    <tr>\n",
       "      <th>17</th>\n",
       "      <td>3.256579</td>\n",
       "      <td>3.261905</td>\n",
       "      <td>2.700000</td>\n",
       "      <td>2.300000</td>\n",
       "      <td>3.246667</td>\n",
       "      <td>3.837963</td>\n",
       "      <td>4.000000</td>\n",
       "      <td>4.023077</td>\n",
       "      <td>3.913043</td>\n",
       "      <td>4.500000</td>\n",
       "      <td>3.650943</td>\n",
       "      <td>2.000000</td>\n",
       "      <td>3.700000</td>\n",
       "      <td>4.206897</td>\n",
       "      <td>3.745614</td>\n",
       "      <td>3.623288</td>\n",
       "      <td>3.784884</td>\n",
       "      <td>3.750000</td>\n",
       "      <td>3.875000</td>\n",
       "      <td>3.777778</td>\n",
       "    </tr>\n",
       "    <tr>\n",
       "      <th>18</th>\n",
       "      <td>3.312500</td>\n",
       "      <td>3.300000</td>\n",
       "      <td>NaN</td>\n",
       "      <td>NaN</td>\n",
       "      <td>3.066667</td>\n",
       "      <td>3.125000</td>\n",
       "      <td>NaN</td>\n",
       "      <td>3.347826</td>\n",
       "      <td>3.500000</td>\n",
       "      <td>NaN</td>\n",
       "      <td>3.000000</td>\n",
       "      <td>NaN</td>\n",
       "      <td>NaN</td>\n",
       "      <td>4.000000</td>\n",
       "      <td>3.307692</td>\n",
       "      <td>3.125000</td>\n",
       "      <td>3.260870</td>\n",
       "      <td>NaN</td>\n",
       "      <td>NaN</td>\n",
       "      <td>3.777778</td>\n",
       "    </tr>\n",
       "    <tr>\n",
       "      <th>19</th>\n",
       "      <td>3.292929</td>\n",
       "      <td>3.471429</td>\n",
       "      <td>3.882353</td>\n",
       "      <td>3.923077</td>\n",
       "      <td>3.442623</td>\n",
       "      <td>3.614286</td>\n",
       "      <td>4.000000</td>\n",
       "      <td>3.612440</td>\n",
       "      <td>3.666667</td>\n",
       "      <td>4.333333</td>\n",
       "      <td>3.400000</td>\n",
       "      <td>3.666667</td>\n",
       "      <td>3.636364</td>\n",
       "      <td>3.564103</td>\n",
       "      <td>3.413043</td>\n",
       "      <td>3.377358</td>\n",
       "      <td>3.393162</td>\n",
       "      <td>4.000000</td>\n",
       "      <td>3.250000</td>\n",
       "      <td>3.777778</td>\n",
       "    </tr>\n",
       "    <tr>\n",
       "      <th>20</th>\n",
       "      <td>3.312500</td>\n",
       "      <td>3.562500</td>\n",
       "      <td>4.153846</td>\n",
       "      <td>3.600000</td>\n",
       "      <td>3.500000</td>\n",
       "      <td>2.545455</td>\n",
       "      <td>NaN</td>\n",
       "      <td>3.119565</td>\n",
       "      <td>3.050000</td>\n",
       "      <td>NaN</td>\n",
       "      <td>2.000000</td>\n",
       "      <td>3.625000</td>\n",
       "      <td>3.700000</td>\n",
       "      <td>3.250000</td>\n",
       "      <td>3.761905</td>\n",
       "      <td>3.071429</td>\n",
       "      <td>2.900000</td>\n",
       "      <td>3.136364</td>\n",
       "      <td>2.500000</td>\n",
       "      <td>3.777778</td>\n",
       "    </tr>\n",
       "    <tr>\n",
       "      <th>21</th>\n",
       "      <td>3.360000</td>\n",
       "      <td>3.446809</td>\n",
       "      <td>3.125000</td>\n",
       "      <td>3.352941</td>\n",
       "      <td>3.522727</td>\n",
       "      <td>3.500000</td>\n",
       "      <td>NaN</td>\n",
       "      <td>3.765625</td>\n",
       "      <td>3.315789</td>\n",
       "      <td>3.500000</td>\n",
       "      <td>3.200000</td>\n",
       "      <td>3.000000</td>\n",
       "      <td>3.222222</td>\n",
       "      <td>3.454545</td>\n",
       "      <td>3.653846</td>\n",
       "      <td>3.342105</td>\n",
       "      <td>3.289474</td>\n",
       "      <td>4.000000</td>\n",
       "      <td>3.571429</td>\n",
       "      <td>3.777778</td>\n",
       "    </tr>\n",
       "    <tr>\n",
       "      <th>22</th>\n",
       "      <td>3.379808</td>\n",
       "      <td>3.441176</td>\n",
       "      <td>3.366667</td>\n",
       "      <td>2.850000</td>\n",
       "      <td>3.000000</td>\n",
       "      <td>3.348837</td>\n",
       "      <td>NaN</td>\n",
       "      <td>3.043860</td>\n",
       "      <td>3.608108</td>\n",
       "      <td>4.500000</td>\n",
       "      <td>3.557143</td>\n",
       "      <td>3.250000</td>\n",
       "      <td>3.055556</td>\n",
       "      <td>3.742424</td>\n",
       "      <td>3.391304</td>\n",
       "      <td>3.395522</td>\n",
       "      <td>3.493976</td>\n",
       "      <td>3.300000</td>\n",
       "      <td>3.000000</td>\n",
       "      <td>3.777778</td>\n",
       "    </tr>\n",
       "    <tr>\n",
       "      <th>23</th>\n",
       "      <td>3.355556</td>\n",
       "      <td>3.504386</td>\n",
       "      <td>3.611111</td>\n",
       "      <td>3.645833</td>\n",
       "      <td>3.581218</td>\n",
       "      <td>3.746212</td>\n",
       "      <td>3.777778</td>\n",
       "      <td>3.713043</td>\n",
       "      <td>3.398148</td>\n",
       "      <td>4.025000</td>\n",
       "      <td>3.414286</td>\n",
       "      <td>3.333333</td>\n",
       "      <td>3.347826</td>\n",
       "      <td>3.770270</td>\n",
       "      <td>3.592814</td>\n",
       "      <td>3.500000</td>\n",
       "      <td>3.577640</td>\n",
       "      <td>3.491667</td>\n",
       "      <td>3.600000</td>\n",
       "      <td>3.777778</td>\n",
       "    </tr>\n",
       "    <tr>\n",
       "      <th>24</th>\n",
       "      <td>3.636364</td>\n",
       "      <td>3.400000</td>\n",
       "      <td>3.000000</td>\n",
       "      <td>3.000000</td>\n",
       "      <td>3.800000</td>\n",
       "      <td>3.857143</td>\n",
       "      <td>NaN</td>\n",
       "      <td>3.777778</td>\n",
       "      <td>NaN</td>\n",
       "      <td>NaN</td>\n",
       "      <td>3.000000</td>\n",
       "      <td>3.000000</td>\n",
       "      <td>3.000000</td>\n",
       "      <td>4.000000</td>\n",
       "      <td>3.750000</td>\n",
       "      <td>3.333333</td>\n",
       "      <td>3.833333</td>\n",
       "      <td>4.000000</td>\n",
       "      <td>4.000000</td>\n",
       "      <td>3.777778</td>\n",
       "    </tr>\n",
       "    <tr>\n",
       "      <th>25</th>\n",
       "      <td>3.000000</td>\n",
       "      <td>3.166667</td>\n",
       "      <td>3.000000</td>\n",
       "      <td>5.000000</td>\n",
       "      <td>2.916667</td>\n",
       "      <td>3.166667</td>\n",
       "      <td>NaN</td>\n",
       "      <td>3.200000</td>\n",
       "      <td>2.750000</td>\n",
       "      <td>NaN</td>\n",
       "      <td>2.000000</td>\n",
       "      <td>NaN</td>\n",
       "      <td>5.000000</td>\n",
       "      <td>2.500000</td>\n",
       "      <td>3.000000</td>\n",
       "      <td>3.166667</td>\n",
       "      <td>3.181818</td>\n",
       "      <td>NaN</td>\n",
       "      <td>NaN</td>\n",
       "      <td>3.777778</td>\n",
       "    </tr>\n",
       "    <tr>\n",
       "      <th>26</th>\n",
       "      <td>3.458904</td>\n",
       "      <td>3.170455</td>\n",
       "      <td>3.366667</td>\n",
       "      <td>4.090909</td>\n",
       "      <td>3.360656</td>\n",
       "      <td>3.589041</td>\n",
       "      <td>3.500000</td>\n",
       "      <td>3.575000</td>\n",
       "      <td>3.214286</td>\n",
       "      <td>4.000000</td>\n",
       "      <td>3.166667</td>\n",
       "      <td>4.000000</td>\n",
       "      <td>NaN</td>\n",
       "      <td>3.977273</td>\n",
       "      <td>3.147059</td>\n",
       "      <td>3.222222</td>\n",
       "      <td>3.716418</td>\n",
       "      <td>3.722222</td>\n",
       "      <td>3.750000</td>\n",
       "      <td>3.777778</td>\n",
       "    </tr>\n",
       "    <tr>\n",
       "      <th>27</th>\n",
       "      <td>4.000000</td>\n",
       "      <td>4.000000</td>\n",
       "      <td>NaN</td>\n",
       "      <td>NaN</td>\n",
       "      <td>3.200000</td>\n",
       "      <td>3.857143</td>\n",
       "      <td>NaN</td>\n",
       "      <td>3.875000</td>\n",
       "      <td>NaN</td>\n",
       "      <td>NaN</td>\n",
       "      <td>3.333333</td>\n",
       "      <td>NaN</td>\n",
       "      <td>NaN</td>\n",
       "      <td>4.333333</td>\n",
       "      <td>3.800000</td>\n",
       "      <td>4.000000</td>\n",
       "      <td>3.600000</td>\n",
       "      <td>5.000000</td>\n",
       "      <td>NaN</td>\n",
       "      <td>3.777778</td>\n",
       "    </tr>\n",
       "    <tr>\n",
       "      <th>28</th>\n",
       "      <td>3.333333</td>\n",
       "      <td>3.375000</td>\n",
       "      <td>NaN</td>\n",
       "      <td>2.000000</td>\n",
       "      <td>4.466667</td>\n",
       "      <td>4.777778</td>\n",
       "      <td>NaN</td>\n",
       "      <td>4.281250</td>\n",
       "      <td>3.000000</td>\n",
       "      <td>4.666667</td>\n",
       "      <td>5.000000</td>\n",
       "      <td>NaN</td>\n",
       "      <td>5.000000</td>\n",
       "      <td>4.285714</td>\n",
       "      <td>4.222222</td>\n",
       "      <td>3.600000</td>\n",
       "      <td>4.384615</td>\n",
       "      <td>4.571429</td>\n",
       "      <td>NaN</td>\n",
       "      <td>3.777778</td>\n",
       "    </tr>\n",
       "    <tr>\n",
       "      <th>29</th>\n",
       "      <td>3.500000</td>\n",
       "      <td>1.500000</td>\n",
       "      <td>NaN</td>\n",
       "      <td>1.500000</td>\n",
       "      <td>2.600000</td>\n",
       "      <td>5.000000</td>\n",
       "      <td>NaN</td>\n",
       "      <td>2.833333</td>\n",
       "      <td>1.750000</td>\n",
       "      <td>NaN</td>\n",
       "      <td>3.214286</td>\n",
       "      <td>3.625000</td>\n",
       "      <td>NaN</td>\n",
       "      <td>2.500000</td>\n",
       "      <td>0.875000</td>\n",
       "      <td>3.000000</td>\n",
       "      <td>2.833333</td>\n",
       "      <td>4.500000</td>\n",
       "      <td>NaN</td>\n",
       "      <td>3.777778</td>\n",
       "    </tr>\n",
       "    <tr>\n",
       "      <th>30</th>\n",
       "      <td>3.612121</td>\n",
       "      <td>3.615385</td>\n",
       "      <td>3.952381</td>\n",
       "      <td>3.529412</td>\n",
       "      <td>3.603352</td>\n",
       "      <td>3.997238</td>\n",
       "      <td>3.375000</td>\n",
       "      <td>3.956637</td>\n",
       "      <td>3.457627</td>\n",
       "      <td>4.545455</td>\n",
       "      <td>3.372881</td>\n",
       "      <td>4.333333</td>\n",
       "      <td>3.780488</td>\n",
       "      <td>3.877778</td>\n",
       "      <td>3.876344</td>\n",
       "      <td>3.337500</td>\n",
       "      <td>3.792727</td>\n",
       "      <td>4.023810</td>\n",
       "      <td>3.895833</td>\n",
       "      <td>3.777778</td>\n",
       "    </tr>\n",
       "    <tr>\n",
       "      <th>...</th>\n",
       "      <td>...</td>\n",
       "      <td>...</td>\n",
       "      <td>...</td>\n",
       "      <td>...</td>\n",
       "      <td>...</td>\n",
       "      <td>...</td>\n",
       "      <td>...</td>\n",
       "      <td>...</td>\n",
       "      <td>...</td>\n",
       "      <td>...</td>\n",
       "      <td>...</td>\n",
       "      <td>...</td>\n",
       "      <td>...</td>\n",
       "      <td>...</td>\n",
       "      <td>...</td>\n",
       "      <td>...</td>\n",
       "      <td>...</td>\n",
       "      <td>...</td>\n",
       "      <td>...</td>\n",
       "      <td>...</td>\n",
       "    </tr>\n",
       "    <tr>\n",
       "      <th>642</th>\n",
       "      <td>4.333333</td>\n",
       "      <td>4.000000</td>\n",
       "      <td>NaN</td>\n",
       "      <td>NaN</td>\n",
       "      <td>4.333333</td>\n",
       "      <td>4.375000</td>\n",
       "      <td>5.000000</td>\n",
       "      <td>3.777778</td>\n",
       "      <td>4.000000</td>\n",
       "      <td>4.250000</td>\n",
       "      <td>2.000000</td>\n",
       "      <td>NaN</td>\n",
       "      <td>4.333333</td>\n",
       "      <td>3.571429</td>\n",
       "      <td>3.600000</td>\n",
       "      <td>4.333333</td>\n",
       "      <td>3.000000</td>\n",
       "      <td>4.000000</td>\n",
       "      <td>4.000000</td>\n",
       "      <td>3.777778</td>\n",
       "    </tr>\n",
       "    <tr>\n",
       "      <th>643</th>\n",
       "      <td>3.266667</td>\n",
       "      <td>4.125000</td>\n",
       "      <td>NaN</td>\n",
       "      <td>NaN</td>\n",
       "      <td>2.071429</td>\n",
       "      <td>3.500000</td>\n",
       "      <td>NaN</td>\n",
       "      <td>4.500000</td>\n",
       "      <td>3.250000</td>\n",
       "      <td>NaN</td>\n",
       "      <td>NaN</td>\n",
       "      <td>4.750000</td>\n",
       "      <td>NaN</td>\n",
       "      <td>5.000000</td>\n",
       "      <td>2.000000</td>\n",
       "      <td>4.833333</td>\n",
       "      <td>3.400000</td>\n",
       "      <td>2.000000</td>\n",
       "      <td>NaN</td>\n",
       "      <td>3.777778</td>\n",
       "    </tr>\n",
       "    <tr>\n",
       "      <th>644</th>\n",
       "      <td>3.000000</td>\n",
       "      <td>3.000000</td>\n",
       "      <td>3.333333</td>\n",
       "      <td>3.000000</td>\n",
       "      <td>3.750000</td>\n",
       "      <td>4.000000</td>\n",
       "      <td>NaN</td>\n",
       "      <td>4.117647</td>\n",
       "      <td>3.666667</td>\n",
       "      <td>NaN</td>\n",
       "      <td>3.200000</td>\n",
       "      <td>NaN</td>\n",
       "      <td>4.000000</td>\n",
       "      <td>4.000000</td>\n",
       "      <td>4.000000</td>\n",
       "      <td>3.250000</td>\n",
       "      <td>5.000000</td>\n",
       "      <td>5.000000</td>\n",
       "      <td>NaN</td>\n",
       "      <td>3.777778</td>\n",
       "    </tr>\n",
       "    <tr>\n",
       "      <th>645</th>\n",
       "      <td>4.125000</td>\n",
       "      <td>3.800000</td>\n",
       "      <td>3.250000</td>\n",
       "      <td>3.400000</td>\n",
       "      <td>3.625000</td>\n",
       "      <td>4.500000</td>\n",
       "      <td>NaN</td>\n",
       "      <td>3.727273</td>\n",
       "      <td>3.666667</td>\n",
       "      <td>3.500000</td>\n",
       "      <td>4.000000</td>\n",
       "      <td>NaN</td>\n",
       "      <td>3.250000</td>\n",
       "      <td>3.500000</td>\n",
       "      <td>3.300000</td>\n",
       "      <td>3.900000</td>\n",
       "      <td>3.714286</td>\n",
       "      <td>3.500000</td>\n",
       "      <td>3.500000</td>\n",
       "      <td>3.777778</td>\n",
       "    </tr>\n",
       "    <tr>\n",
       "      <th>646</th>\n",
       "      <td>3.945946</td>\n",
       "      <td>4.176471</td>\n",
       "      <td>4.361111</td>\n",
       "      <td>4.228070</td>\n",
       "      <td>4.108108</td>\n",
       "      <td>4.444444</td>\n",
       "      <td>NaN</td>\n",
       "      <td>4.366667</td>\n",
       "      <td>4.137931</td>\n",
       "      <td>NaN</td>\n",
       "      <td>3.777778</td>\n",
       "      <td>5.000000</td>\n",
       "      <td>4.291667</td>\n",
       "      <td>4.333333</td>\n",
       "      <td>4.034483</td>\n",
       "      <td>4.159091</td>\n",
       "      <td>4.157895</td>\n",
       "      <td>4.500000</td>\n",
       "      <td>3.833333</td>\n",
       "      <td>3.777778</td>\n",
       "    </tr>\n",
       "    <tr>\n",
       "      <th>647</th>\n",
       "      <td>3.884615</td>\n",
       "      <td>3.833333</td>\n",
       "      <td>4.666667</td>\n",
       "      <td>4.750000</td>\n",
       "      <td>4.303030</td>\n",
       "      <td>4.216667</td>\n",
       "      <td>5.000000</td>\n",
       "      <td>4.366667</td>\n",
       "      <td>4.500000</td>\n",
       "      <td>4.444444</td>\n",
       "      <td>4.250000</td>\n",
       "      <td>NaN</td>\n",
       "      <td>4.500000</td>\n",
       "      <td>4.200000</td>\n",
       "      <td>4.571429</td>\n",
       "      <td>4.000000</td>\n",
       "      <td>4.016949</td>\n",
       "      <td>4.000000</td>\n",
       "      <td>4.333333</td>\n",
       "      <td>3.777778</td>\n",
       "    </tr>\n",
       "    <tr>\n",
       "      <th>648</th>\n",
       "      <td>3.255814</td>\n",
       "      <td>3.206897</td>\n",
       "      <td>3.227273</td>\n",
       "      <td>3.000000</td>\n",
       "      <td>3.771429</td>\n",
       "      <td>3.939655</td>\n",
       "      <td>3.750000</td>\n",
       "      <td>3.792254</td>\n",
       "      <td>3.187500</td>\n",
       "      <td>4.000000</td>\n",
       "      <td>1.500000</td>\n",
       "      <td>2.750000</td>\n",
       "      <td>2.642857</td>\n",
       "      <td>3.269231</td>\n",
       "      <td>3.627907</td>\n",
       "      <td>2.583333</td>\n",
       "      <td>3.377358</td>\n",
       "      <td>3.714286</td>\n",
       "      <td>3.333333</td>\n",
       "      <td>3.777778</td>\n",
       "    </tr>\n",
       "    <tr>\n",
       "      <th>649</th>\n",
       "      <td>3.320000</td>\n",
       "      <td>3.055556</td>\n",
       "      <td>3.200000</td>\n",
       "      <td>3.285714</td>\n",
       "      <td>3.452381</td>\n",
       "      <td>3.687500</td>\n",
       "      <td>NaN</td>\n",
       "      <td>3.641026</td>\n",
       "      <td>3.500000</td>\n",
       "      <td>NaN</td>\n",
       "      <td>3.500000</td>\n",
       "      <td>3.333333</td>\n",
       "      <td>3.400000</td>\n",
       "      <td>3.166667</td>\n",
       "      <td>3.458333</td>\n",
       "      <td>2.454545</td>\n",
       "      <td>3.827586</td>\n",
       "      <td>3.400000</td>\n",
       "      <td>3.000000</td>\n",
       "      <td>3.777778</td>\n",
       "    </tr>\n",
       "    <tr>\n",
       "      <th>650</th>\n",
       "      <td>3.416667</td>\n",
       "      <td>3.625000</td>\n",
       "      <td>NaN</td>\n",
       "      <td>NaN</td>\n",
       "      <td>2.714286</td>\n",
       "      <td>3.000000</td>\n",
       "      <td>NaN</td>\n",
       "      <td>3.466667</td>\n",
       "      <td>NaN</td>\n",
       "      <td>NaN</td>\n",
       "      <td>3.000000</td>\n",
       "      <td>NaN</td>\n",
       "      <td>NaN</td>\n",
       "      <td>3.000000</td>\n",
       "      <td>3.333333</td>\n",
       "      <td>3.666667</td>\n",
       "      <td>3.500000</td>\n",
       "      <td>NaN</td>\n",
       "      <td>NaN</td>\n",
       "      <td>3.777778</td>\n",
       "    </tr>\n",
       "    <tr>\n",
       "      <th>651</th>\n",
       "      <td>4.666667</td>\n",
       "      <td>4.500000</td>\n",
       "      <td>5.000000</td>\n",
       "      <td>4.000000</td>\n",
       "      <td>3.600000</td>\n",
       "      <td>4.000000</td>\n",
       "      <td>NaN</td>\n",
       "      <td>3.666667</td>\n",
       "      <td>4.000000</td>\n",
       "      <td>NaN</td>\n",
       "      <td>4.000000</td>\n",
       "      <td>NaN</td>\n",
       "      <td>4.000000</td>\n",
       "      <td>NaN</td>\n",
       "      <td>3.666667</td>\n",
       "      <td>4.666667</td>\n",
       "      <td>NaN</td>\n",
       "      <td>4.000000</td>\n",
       "      <td>NaN</td>\n",
       "      <td>3.777778</td>\n",
       "    </tr>\n",
       "    <tr>\n",
       "      <th>652</th>\n",
       "      <td>4.101695</td>\n",
       "      <td>4.207317</td>\n",
       "      <td>4.269231</td>\n",
       "      <td>4.233333</td>\n",
       "      <td>4.260163</td>\n",
       "      <td>3.977273</td>\n",
       "      <td>NaN</td>\n",
       "      <td>4.222656</td>\n",
       "      <td>4.145833</td>\n",
       "      <td>4.000000</td>\n",
       "      <td>4.000000</td>\n",
       "      <td>3.875000</td>\n",
       "      <td>4.050000</td>\n",
       "      <td>4.214286</td>\n",
       "      <td>4.273196</td>\n",
       "      <td>4.229730</td>\n",
       "      <td>4.108696</td>\n",
       "      <td>4.333333</td>\n",
       "      <td>NaN</td>\n",
       "      <td>3.777778</td>\n",
       "    </tr>\n",
       "    <tr>\n",
       "      <th>653</th>\n",
       "      <td>4.400000</td>\n",
       "      <td>4.117647</td>\n",
       "      <td>4.714286</td>\n",
       "      <td>3.833333</td>\n",
       "      <td>4.066667</td>\n",
       "      <td>1.000000</td>\n",
       "      <td>NaN</td>\n",
       "      <td>4.080000</td>\n",
       "      <td>4.000000</td>\n",
       "      <td>NaN</td>\n",
       "      <td>5.000000</td>\n",
       "      <td>4.666667</td>\n",
       "      <td>4.500000</td>\n",
       "      <td>3.333333</td>\n",
       "      <td>4.250000</td>\n",
       "      <td>4.600000</td>\n",
       "      <td>3.400000</td>\n",
       "      <td>4.000000</td>\n",
       "      <td>3.500000</td>\n",
       "      <td>3.777778</td>\n",
       "    </tr>\n",
       "    <tr>\n",
       "      <th>654</th>\n",
       "      <td>3.973958</td>\n",
       "      <td>4.074176</td>\n",
       "      <td>4.250000</td>\n",
       "      <td>4.216418</td>\n",
       "      <td>4.018836</td>\n",
       "      <td>4.164706</td>\n",
       "      <td>4.000000</td>\n",
       "      <td>4.157658</td>\n",
       "      <td>4.168750</td>\n",
       "      <td>4.500000</td>\n",
       "      <td>3.945652</td>\n",
       "      <td>4.600000</td>\n",
       "      <td>4.151515</td>\n",
       "      <td>4.255556</td>\n",
       "      <td>3.978448</td>\n",
       "      <td>3.966942</td>\n",
       "      <td>4.070122</td>\n",
       "      <td>4.157895</td>\n",
       "      <td>4.300000</td>\n",
       "      <td>3.777778</td>\n",
       "    </tr>\n",
       "    <tr>\n",
       "      <th>655</th>\n",
       "      <td>4.090909</td>\n",
       "      <td>4.196970</td>\n",
       "      <td>4.250000</td>\n",
       "      <td>4.187500</td>\n",
       "      <td>4.180328</td>\n",
       "      <td>4.166667</td>\n",
       "      <td>NaN</td>\n",
       "      <td>3.560000</td>\n",
       "      <td>4.400000</td>\n",
       "      <td>4.500000</td>\n",
       "      <td>4.166667</td>\n",
       "      <td>3.875000</td>\n",
       "      <td>4.200000</td>\n",
       "      <td>4.000000</td>\n",
       "      <td>4.214286</td>\n",
       "      <td>3.666667</td>\n",
       "      <td>4.020000</td>\n",
       "      <td>5.000000</td>\n",
       "      <td>4.000000</td>\n",
       "      <td>3.777778</td>\n",
       "    </tr>\n",
       "    <tr>\n",
       "      <th>656</th>\n",
       "      <td>4.647059</td>\n",
       "      <td>4.409091</td>\n",
       "      <td>4.600000</td>\n",
       "      <td>4.727273</td>\n",
       "      <td>4.531915</td>\n",
       "      <td>4.461538</td>\n",
       "      <td>NaN</td>\n",
       "      <td>4.546667</td>\n",
       "      <td>4.666667</td>\n",
       "      <td>5.000000</td>\n",
       "      <td>4.250000</td>\n",
       "      <td>NaN</td>\n",
       "      <td>4.833333</td>\n",
       "      <td>4.785714</td>\n",
       "      <td>4.466667</td>\n",
       "      <td>4.545455</td>\n",
       "      <td>4.315789</td>\n",
       "      <td>4.750000</td>\n",
       "      <td>4.000000</td>\n",
       "      <td>3.777778</td>\n",
       "    </tr>\n",
       "    <tr>\n",
       "      <th>657</th>\n",
       "      <td>2.857143</td>\n",
       "      <td>3.142857</td>\n",
       "      <td>3.000000</td>\n",
       "      <td>3.000000</td>\n",
       "      <td>3.333333</td>\n",
       "      <td>3.571429</td>\n",
       "      <td>NaN</td>\n",
       "      <td>3.900000</td>\n",
       "      <td>3.000000</td>\n",
       "      <td>NaN</td>\n",
       "      <td>4.500000</td>\n",
       "      <td>3.500000</td>\n",
       "      <td>3.000000</td>\n",
       "      <td>3.000000</td>\n",
       "      <td>3.000000</td>\n",
       "      <td>3.333333</td>\n",
       "      <td>3.636364</td>\n",
       "      <td>3.500000</td>\n",
       "      <td>4.000000</td>\n",
       "      <td>3.777778</td>\n",
       "    </tr>\n",
       "    <tr>\n",
       "      <th>658</th>\n",
       "      <td>4.500000</td>\n",
       "      <td>4.571429</td>\n",
       "      <td>4.666667</td>\n",
       "      <td>4.333333</td>\n",
       "      <td>4.400000</td>\n",
       "      <td>4.222222</td>\n",
       "      <td>NaN</td>\n",
       "      <td>4.421053</td>\n",
       "      <td>4.250000</td>\n",
       "      <td>4.000000</td>\n",
       "      <td>4.000000</td>\n",
       "      <td>4.333333</td>\n",
       "      <td>4.666667</td>\n",
       "      <td>4.000000</td>\n",
       "      <td>4.473684</td>\n",
       "      <td>4.000000</td>\n",
       "      <td>4.000000</td>\n",
       "      <td>4.700000</td>\n",
       "      <td>4.000000</td>\n",
       "      <td>3.777778</td>\n",
       "    </tr>\n",
       "    <tr>\n",
       "      <th>659</th>\n",
       "      <td>3.225806</td>\n",
       "      <td>3.571429</td>\n",
       "      <td>4.000000</td>\n",
       "      <td>3.400000</td>\n",
       "      <td>3.333333</td>\n",
       "      <td>3.391304</td>\n",
       "      <td>4.000000</td>\n",
       "      <td>3.547619</td>\n",
       "      <td>3.000000</td>\n",
       "      <td>NaN</td>\n",
       "      <td>3.333333</td>\n",
       "      <td>5.000000</td>\n",
       "      <td>4.000000</td>\n",
       "      <td>3.285714</td>\n",
       "      <td>3.405405</td>\n",
       "      <td>3.263158</td>\n",
       "      <td>3.238095</td>\n",
       "      <td>3.500000</td>\n",
       "      <td>3.000000</td>\n",
       "      <td>3.777778</td>\n",
       "    </tr>\n",
       "    <tr>\n",
       "      <th>660</th>\n",
       "      <td>4.269231</td>\n",
       "      <td>4.175439</td>\n",
       "      <td>4.239130</td>\n",
       "      <td>4.166667</td>\n",
       "      <td>4.086957</td>\n",
       "      <td>3.928571</td>\n",
       "      <td>NaN</td>\n",
       "      <td>4.238095</td>\n",
       "      <td>4.195652</td>\n",
       "      <td>NaN</td>\n",
       "      <td>0.500000</td>\n",
       "      <td>4.287879</td>\n",
       "      <td>4.500000</td>\n",
       "      <td>4.363636</td>\n",
       "      <td>4.166667</td>\n",
       "      <td>4.186047</td>\n",
       "      <td>4.050000</td>\n",
       "      <td>4.000000</td>\n",
       "      <td>5.000000</td>\n",
       "      <td>3.777778</td>\n",
       "    </tr>\n",
       "    <tr>\n",
       "      <th>661</th>\n",
       "      <td>4.000000</td>\n",
       "      <td>4.000000</td>\n",
       "      <td>4.000000</td>\n",
       "      <td>4.000000</td>\n",
       "      <td>3.458333</td>\n",
       "      <td>4.250000</td>\n",
       "      <td>NaN</td>\n",
       "      <td>4.021739</td>\n",
       "      <td>5.000000</td>\n",
       "      <td>NaN</td>\n",
       "      <td>NaN</td>\n",
       "      <td>NaN</td>\n",
       "      <td>NaN</td>\n",
       "      <td>4.500000</td>\n",
       "      <td>3.750000</td>\n",
       "      <td>4.333333</td>\n",
       "      <td>3.333333</td>\n",
       "      <td>4.500000</td>\n",
       "      <td>NaN</td>\n",
       "      <td>3.777778</td>\n",
       "    </tr>\n",
       "    <tr>\n",
       "      <th>662</th>\n",
       "      <td>2.833333</td>\n",
       "      <td>3.200000</td>\n",
       "      <td>3.666667</td>\n",
       "      <td>4.000000</td>\n",
       "      <td>3.347826</td>\n",
       "      <td>3.142857</td>\n",
       "      <td>NaN</td>\n",
       "      <td>3.791667</td>\n",
       "      <td>4.000000</td>\n",
       "      <td>NaN</td>\n",
       "      <td>NaN</td>\n",
       "      <td>3.666667</td>\n",
       "      <td>3.666667</td>\n",
       "      <td>3.000000</td>\n",
       "      <td>3.437500</td>\n",
       "      <td>3.000000</td>\n",
       "      <td>3.052632</td>\n",
       "      <td>4.666667</td>\n",
       "      <td>3.000000</td>\n",
       "      <td>3.777778</td>\n",
       "    </tr>\n",
       "    <tr>\n",
       "      <th>663</th>\n",
       "      <td>3.727273</td>\n",
       "      <td>3.875000</td>\n",
       "      <td>4.333333</td>\n",
       "      <td>4.250000</td>\n",
       "      <td>3.785714</td>\n",
       "      <td>4.000000</td>\n",
       "      <td>NaN</td>\n",
       "      <td>3.687500</td>\n",
       "      <td>4.000000</td>\n",
       "      <td>NaN</td>\n",
       "      <td>4.000000</td>\n",
       "      <td>NaN</td>\n",
       "      <td>NaN</td>\n",
       "      <td>3.500000</td>\n",
       "      <td>3.500000</td>\n",
       "      <td>3.812500</td>\n",
       "      <td>3.687500</td>\n",
       "      <td>4.000000</td>\n",
       "      <td>NaN</td>\n",
       "      <td>3.777778</td>\n",
       "    </tr>\n",
       "    <tr>\n",
       "      <th>664</th>\n",
       "      <td>3.769841</td>\n",
       "      <td>3.796154</td>\n",
       "      <td>3.775000</td>\n",
       "      <td>3.633333</td>\n",
       "      <td>3.709677</td>\n",
       "      <td>3.865942</td>\n",
       "      <td>4.000000</td>\n",
       "      <td>3.849765</td>\n",
       "      <td>3.787037</td>\n",
       "      <td>3.833333</td>\n",
       "      <td>3.645161</td>\n",
       "      <td>3.811111</td>\n",
       "      <td>3.500000</td>\n",
       "      <td>3.961538</td>\n",
       "      <td>3.696078</td>\n",
       "      <td>3.805732</td>\n",
       "      <td>3.811203</td>\n",
       "      <td>3.661290</td>\n",
       "      <td>4.166667</td>\n",
       "      <td>3.777778</td>\n",
       "    </tr>\n",
       "    <tr>\n",
       "      <th>665</th>\n",
       "      <td>3.342105</td>\n",
       "      <td>3.445783</td>\n",
       "      <td>3.717391</td>\n",
       "      <td>3.537500</td>\n",
       "      <td>3.198068</td>\n",
       "      <td>3.410256</td>\n",
       "      <td>NaN</td>\n",
       "      <td>3.374332</td>\n",
       "      <td>3.500000</td>\n",
       "      <td>NaN</td>\n",
       "      <td>2.772727</td>\n",
       "      <td>4.666667</td>\n",
       "      <td>3.828571</td>\n",
       "      <td>3.214286</td>\n",
       "      <td>3.282443</td>\n",
       "      <td>3.357143</td>\n",
       "      <td>3.175676</td>\n",
       "      <td>3.615385</td>\n",
       "      <td>3.222222</td>\n",
       "      <td>3.777778</td>\n",
       "    </tr>\n",
       "    <tr>\n",
       "      <th>666</th>\n",
       "      <td>2.846154</td>\n",
       "      <td>3.100000</td>\n",
       "      <td>2.500000</td>\n",
       "      <td>2.666667</td>\n",
       "      <td>2.705882</td>\n",
       "      <td>3.125000</td>\n",
       "      <td>5.000000</td>\n",
       "      <td>3.142857</td>\n",
       "      <td>2.000000</td>\n",
       "      <td>NaN</td>\n",
       "      <td>3.000000</td>\n",
       "      <td>3.000000</td>\n",
       "      <td>2.500000</td>\n",
       "      <td>NaN</td>\n",
       "      <td>2.400000</td>\n",
       "      <td>2.800000</td>\n",
       "      <td>3.071429</td>\n",
       "      <td>3.333333</td>\n",
       "      <td>4.000000</td>\n",
       "      <td>3.777778</td>\n",
       "    </tr>\n",
       "    <tr>\n",
       "      <th>667</th>\n",
       "      <td>3.266667</td>\n",
       "      <td>3.571429</td>\n",
       "      <td>4.000000</td>\n",
       "      <td>4.000000</td>\n",
       "      <td>3.875000</td>\n",
       "      <td>3.666667</td>\n",
       "      <td>NaN</td>\n",
       "      <td>3.707317</td>\n",
       "      <td>4.000000</td>\n",
       "      <td>NaN</td>\n",
       "      <td>NaN</td>\n",
       "      <td>4.000000</td>\n",
       "      <td>3.666667</td>\n",
       "      <td>4.000000</td>\n",
       "      <td>3.260870</td>\n",
       "      <td>4.250000</td>\n",
       "      <td>3.500000</td>\n",
       "      <td>3.833333</td>\n",
       "      <td>3.000000</td>\n",
       "      <td>3.777778</td>\n",
       "    </tr>\n",
       "    <tr>\n",
       "      <th>668</th>\n",
       "      <td>3.500000</td>\n",
       "      <td>3.000000</td>\n",
       "      <td>3.000000</td>\n",
       "      <td>3.000000</td>\n",
       "      <td>3.444444</td>\n",
       "      <td>4.571429</td>\n",
       "      <td>NaN</td>\n",
       "      <td>4.307692</td>\n",
       "      <td>4.000000</td>\n",
       "      <td>NaN</td>\n",
       "      <td>5.000000</td>\n",
       "      <td>NaN</td>\n",
       "      <td>NaN</td>\n",
       "      <td>3.000000</td>\n",
       "      <td>5.000000</td>\n",
       "      <td>NaN</td>\n",
       "      <td>4.500000</td>\n",
       "      <td>4.500000</td>\n",
       "      <td>NaN</td>\n",
       "      <td>3.777778</td>\n",
       "    </tr>\n",
       "    <tr>\n",
       "      <th>669</th>\n",
       "      <td>3.777778</td>\n",
       "      <td>3.800000</td>\n",
       "      <td>NaN</td>\n",
       "      <td>NaN</td>\n",
       "      <td>3.400000</td>\n",
       "      <td>3.750000</td>\n",
       "      <td>NaN</td>\n",
       "      <td>3.416667</td>\n",
       "      <td>3.000000</td>\n",
       "      <td>5.000000</td>\n",
       "      <td>2.571429</td>\n",
       "      <td>NaN</td>\n",
       "      <td>NaN</td>\n",
       "      <td>3.666667</td>\n",
       "      <td>3.250000</td>\n",
       "      <td>2.875000</td>\n",
       "      <td>3.076923</td>\n",
       "      <td>NaN</td>\n",
       "      <td>5.000000</td>\n",
       "      <td>3.777778</td>\n",
       "    </tr>\n",
       "    <tr>\n",
       "      <th>670</th>\n",
       "      <td>3.600000</td>\n",
       "      <td>3.400000</td>\n",
       "      <td>4.000000</td>\n",
       "      <td>4.000000</td>\n",
       "      <td>3.857143</td>\n",
       "      <td>4.000000</td>\n",
       "      <td>NaN</td>\n",
       "      <td>3.764706</td>\n",
       "      <td>3.333333</td>\n",
       "      <td>1.500000</td>\n",
       "      <td>5.000000</td>\n",
       "      <td>3.000000</td>\n",
       "      <td>NaN</td>\n",
       "      <td>3.750000</td>\n",
       "      <td>3.714286</td>\n",
       "      <td>3.750000</td>\n",
       "      <td>3.900000</td>\n",
       "      <td>4.333333</td>\n",
       "      <td>1.000000</td>\n",
       "      <td>3.777778</td>\n",
       "    </tr>\n",
       "    <tr>\n",
       "      <th>671</th>\n",
       "      <td>4.000000</td>\n",
       "      <td>4.086207</td>\n",
       "      <td>4.250000</td>\n",
       "      <td>4.333333</td>\n",
       "      <td>3.810000</td>\n",
       "      <td>4.050000</td>\n",
       "      <td>4.000000</td>\n",
       "      <td>3.778846</td>\n",
       "      <td>4.411765</td>\n",
       "      <td>NaN</td>\n",
       "      <td>4.000000</td>\n",
       "      <td>4.000000</td>\n",
       "      <td>4.250000</td>\n",
       "      <td>4.250000</td>\n",
       "      <td>3.869565</td>\n",
       "      <td>4.041667</td>\n",
       "      <td>4.052632</td>\n",
       "      <td>3.857143</td>\n",
       "      <td>3.500000</td>\n",
       "      <td>3.777778</td>\n",
       "    </tr>\n",
       "  </tbody>\n",
       "</table>\n",
       "<p>671 rows × 20 columns</p>\n",
       "</div>"
      ],
      "text/plain": [
       "          Action  Adventure  Animation  Children    Comedy     Crime  \\\n",
       "userId                                                                 \n",
       "1       2.800000   2.166667   2.000000  2.500000  2.000000  2.500000   \n",
       "2       3.315789   3.750000   3.666667  3.500000  3.093750  3.666667   \n",
       "3       3.468750   3.300000   2.875000  2.700000  3.611111  3.700000   \n",
       "4       4.274194   4.338710   4.708333  4.634146  4.329545  4.157895   \n",
       "5       4.000000   3.825000   3.900000  3.892857  3.981818  3.450000   \n",
       "6       3.266667   3.733333   3.500000  3.200000  2.906250  3.500000   \n",
       "7       3.285714   3.656250   4.083333  3.785714  3.540541  3.636364   \n",
       "8       3.967742   3.863636   3.500000  3.500000  3.796875  4.200000   \n",
       "9       3.250000   3.166667   3.333333  3.000000  3.714286  3.888889   \n",
       "10      3.666667   3.923077        NaN       NaN  3.583333  3.571429   \n",
       "11      4.192308   4.272727        NaN  3.500000  3.700000  4.291667   \n",
       "12      3.214286   2.600000   1.500000  1.400000  2.714286  3.250000   \n",
       "13      3.750000   3.850000   4.000000  3.884615  3.568182  3.937500   \n",
       "14      2.857143   3.125000   2.800000  2.750000  3.000000       NaN   \n",
       "15      2.478858   2.466981   2.322368  2.107595  2.540931  2.740614   \n",
       "16      3.750000   3.750000        NaN       NaN  4.136364  4.000000   \n",
       "17      3.256579   3.261905   2.700000  2.300000  3.246667  3.837963   \n",
       "18      3.312500   3.300000        NaN       NaN  3.066667  3.125000   \n",
       "19      3.292929   3.471429   3.882353  3.923077  3.442623  3.614286   \n",
       "20      3.312500   3.562500   4.153846  3.600000  3.500000  2.545455   \n",
       "21      3.360000   3.446809   3.125000  3.352941  3.522727  3.500000   \n",
       "22      3.379808   3.441176   3.366667  2.850000  3.000000  3.348837   \n",
       "23      3.355556   3.504386   3.611111  3.645833  3.581218  3.746212   \n",
       "24      3.636364   3.400000   3.000000  3.000000  3.800000  3.857143   \n",
       "25      3.000000   3.166667   3.000000  5.000000  2.916667  3.166667   \n",
       "26      3.458904   3.170455   3.366667  4.090909  3.360656  3.589041   \n",
       "27      4.000000   4.000000        NaN       NaN  3.200000  3.857143   \n",
       "28      3.333333   3.375000        NaN  2.000000  4.466667  4.777778   \n",
       "29      3.500000   1.500000        NaN  1.500000  2.600000  5.000000   \n",
       "30      3.612121   3.615385   3.952381  3.529412  3.603352  3.997238   \n",
       "...          ...        ...        ...       ...       ...       ...   \n",
       "642     4.333333   4.000000        NaN       NaN  4.333333  4.375000   \n",
       "643     3.266667   4.125000        NaN       NaN  2.071429  3.500000   \n",
       "644     3.000000   3.000000   3.333333  3.000000  3.750000  4.000000   \n",
       "645     4.125000   3.800000   3.250000  3.400000  3.625000  4.500000   \n",
       "646     3.945946   4.176471   4.361111  4.228070  4.108108  4.444444   \n",
       "647     3.884615   3.833333   4.666667  4.750000  4.303030  4.216667   \n",
       "648     3.255814   3.206897   3.227273  3.000000  3.771429  3.939655   \n",
       "649     3.320000   3.055556   3.200000  3.285714  3.452381  3.687500   \n",
       "650     3.416667   3.625000        NaN       NaN  2.714286  3.000000   \n",
       "651     4.666667   4.500000   5.000000  4.000000  3.600000  4.000000   \n",
       "652     4.101695   4.207317   4.269231  4.233333  4.260163  3.977273   \n",
       "653     4.400000   4.117647   4.714286  3.833333  4.066667  1.000000   \n",
       "654     3.973958   4.074176   4.250000  4.216418  4.018836  4.164706   \n",
       "655     4.090909   4.196970   4.250000  4.187500  4.180328  4.166667   \n",
       "656     4.647059   4.409091   4.600000  4.727273  4.531915  4.461538   \n",
       "657     2.857143   3.142857   3.000000  3.000000  3.333333  3.571429   \n",
       "658     4.500000   4.571429   4.666667  4.333333  4.400000  4.222222   \n",
       "659     3.225806   3.571429   4.000000  3.400000  3.333333  3.391304   \n",
       "660     4.269231   4.175439   4.239130  4.166667  4.086957  3.928571   \n",
       "661     4.000000   4.000000   4.000000  4.000000  3.458333  4.250000   \n",
       "662     2.833333   3.200000   3.666667  4.000000  3.347826  3.142857   \n",
       "663     3.727273   3.875000   4.333333  4.250000  3.785714  4.000000   \n",
       "664     3.769841   3.796154   3.775000  3.633333  3.709677  3.865942   \n",
       "665     3.342105   3.445783   3.717391  3.537500  3.198068  3.410256   \n",
       "666     2.846154   3.100000   2.500000  2.666667  2.705882  3.125000   \n",
       "667     3.266667   3.571429   4.000000  4.000000  3.875000  3.666667   \n",
       "668     3.500000   3.000000   3.000000  3.000000  3.444444  4.571429   \n",
       "669     3.777778   3.800000        NaN       NaN  3.400000  3.750000   \n",
       "670     3.600000   3.400000   4.000000  4.000000  3.857143  4.000000   \n",
       "671     4.000000   4.086207   4.250000  4.333333  3.810000  4.050000   \n",
       "\n",
       "        Documentary     Drama   Fantasy  Film-Noir    Horror      IMAX  \\\n",
       "userId                                                                   \n",
       "1               NaN  2.571429  2.125000        NaN  3.000000       NaN   \n",
       "2               NaN  3.615385  3.400000        NaN  3.500000  4.000000   \n",
       "3          3.666667  3.920000  3.000000        NaN  3.375000  2.875000   \n",
       "4          4.000000  4.464286  4.567568   5.000000  3.944444  5.000000   \n",
       "5          3.666667  3.807692  3.750000        NaN  3.875000  4.000000   \n",
       "6               NaN  3.550000  3.687500        NaN  3.333333  3.750000   \n",
       "7               NaN  3.517241  3.307692        NaN  2.500000  3.000000   \n",
       "8          3.000000  3.767241  3.500000   3.500000  3.857143  4.000000   \n",
       "9               NaN  4.000000  3.600000        NaN  4.000000       NaN   \n",
       "10              NaN  4.066667  4.500000        NaN  3.428571       NaN   \n",
       "11         3.916667  4.131579  4.000000   4.000000  2.000000  4.416667   \n",
       "12         5.000000  2.760000  2.000000        NaN  3.750000       NaN   \n",
       "13              NaN  3.964286  3.818182        NaN  3.000000  4.100000   \n",
       "14              NaN  2.000000  2.750000        NaN       NaN       NaN   \n",
       "15         3.134831  2.718831  2.153846   3.250000  2.368421  2.331395   \n",
       "16              NaN  4.142857  3.000000        NaN       NaN       NaN   \n",
       "17         4.000000  4.023077  3.913043   4.500000  3.650943  2.000000   \n",
       "18              NaN  3.347826  3.500000        NaN  3.000000       NaN   \n",
       "19         4.000000  3.612440  3.666667   4.333333  3.400000  3.666667   \n",
       "20              NaN  3.119565  3.050000        NaN  2.000000  3.625000   \n",
       "21              NaN  3.765625  3.315789   3.500000  3.200000  3.000000   \n",
       "22              NaN  3.043860  3.608108   4.500000  3.557143  3.250000   \n",
       "23         3.777778  3.713043  3.398148   4.025000  3.414286  3.333333   \n",
       "24              NaN  3.777778       NaN        NaN  3.000000  3.000000   \n",
       "25              NaN  3.200000  2.750000        NaN  2.000000       NaN   \n",
       "26         3.500000  3.575000  3.214286   4.000000  3.166667  4.000000   \n",
       "27              NaN  3.875000       NaN        NaN  3.333333       NaN   \n",
       "28              NaN  4.281250  3.000000   4.666667  5.000000       NaN   \n",
       "29              NaN  2.833333  1.750000        NaN  3.214286  3.625000   \n",
       "30         3.375000  3.956637  3.457627   4.545455  3.372881  4.333333   \n",
       "...             ...       ...       ...        ...       ...       ...   \n",
       "642        5.000000  3.777778  4.000000   4.250000  2.000000       NaN   \n",
       "643             NaN  4.500000  3.250000        NaN       NaN  4.750000   \n",
       "644             NaN  4.117647  3.666667        NaN  3.200000       NaN   \n",
       "645             NaN  3.727273  3.666667   3.500000  4.000000       NaN   \n",
       "646             NaN  4.366667  4.137931        NaN  3.777778  5.000000   \n",
       "647        5.000000  4.366667  4.500000   4.444444  4.250000       NaN   \n",
       "648        3.750000  3.792254  3.187500   4.000000  1.500000  2.750000   \n",
       "649             NaN  3.641026  3.500000        NaN  3.500000  3.333333   \n",
       "650             NaN  3.466667       NaN        NaN  3.000000       NaN   \n",
       "651             NaN  3.666667  4.000000        NaN  4.000000       NaN   \n",
       "652             NaN  4.222656  4.145833   4.000000  4.000000  3.875000   \n",
       "653             NaN  4.080000  4.000000        NaN  5.000000  4.666667   \n",
       "654        4.000000  4.157658  4.168750   4.500000  3.945652  4.600000   \n",
       "655             NaN  3.560000  4.400000   4.500000  4.166667  3.875000   \n",
       "656             NaN  4.546667  4.666667   5.000000  4.250000       NaN   \n",
       "657             NaN  3.900000  3.000000        NaN  4.500000  3.500000   \n",
       "658             NaN  4.421053  4.250000   4.000000  4.000000  4.333333   \n",
       "659        4.000000  3.547619  3.000000        NaN  3.333333  5.000000   \n",
       "660             NaN  4.238095  4.195652        NaN  0.500000  4.287879   \n",
       "661             NaN  4.021739  5.000000        NaN       NaN       NaN   \n",
       "662             NaN  3.791667  4.000000        NaN       NaN  3.666667   \n",
       "663             NaN  3.687500  4.000000        NaN  4.000000       NaN   \n",
       "664        4.000000  3.849765  3.787037   3.833333  3.645161  3.811111   \n",
       "665             NaN  3.374332  3.500000        NaN  2.772727  4.666667   \n",
       "666        5.000000  3.142857  2.000000        NaN  3.000000  3.000000   \n",
       "667             NaN  3.707317  4.000000        NaN       NaN  4.000000   \n",
       "668             NaN  4.307692  4.000000        NaN  5.000000       NaN   \n",
       "669             NaN  3.416667  3.000000   5.000000  2.571429       NaN   \n",
       "670             NaN  3.764706  3.333333   1.500000  5.000000  3.000000   \n",
       "671        4.000000  3.778846  4.411765        NaN  4.000000  4.000000   \n",
       "\n",
       "         Musical   Mystery   Romance    Sci-Fi  Thriller       War   Western  \\\n",
       "userId                                                                         \n",
       "1       3.000000       NaN  3.500000  2.400000  2.833333  2.000000  3.000000   \n",
       "2       3.750000  4.000000  3.590909  3.800000  3.333333  3.800000  5.000000   \n",
       "3       2.500000  3.750000  3.650000  3.142857  3.545455  4.166667  4.000000   \n",
       "4       4.833333  4.090909  4.500000  4.255814  4.022727  4.750000  3.000000   \n",
       "5       4.250000  3.333333  4.081081  4.000000  3.625000  4.000000       NaN   \n",
       "6       3.000000  2.833333  2.900000  2.750000  2.722222  4.166667       NaN   \n",
       "7       3.500000  2.500000  2.933333  3.360000  3.000000  3.600000  2.500000   \n",
       "8       3.500000  4.307692  3.717391  4.038462  4.075758  4.083333       NaN   \n",
       "9       4.000000  3.500000  3.875000  4.250000  3.600000  3.666667       NaN   \n",
       "10      3.000000  3.750000  3.857143  3.875000  3.500000  4.000000  2.000000   \n",
       "11           NaN  4.400000  4.500000  4.625000  4.033333  4.500000  5.000000   \n",
       "12      2.666667  3.333333  2.888889  2.615385  3.500000       NaN  2.500000   \n",
       "13      3.666667  3.625000  3.900000  3.583333  3.250000  4.400000  3.166667   \n",
       "14      2.000000       NaN  3.000000  3.428571  3.000000       NaN       NaN   \n",
       "15      2.303030  2.704545  2.605802  2.513011  2.609504  2.625000  2.600000   \n",
       "16           NaN  4.500000  4.208333  4.200000  4.000000  4.000000  4.000000   \n",
       "17      3.700000  4.206897  3.745614  3.623288  3.784884  3.750000  3.875000   \n",
       "18           NaN  4.000000  3.307692  3.125000  3.260870       NaN       NaN   \n",
       "19      3.636364  3.564103  3.413043  3.377358  3.393162  4.000000  3.250000   \n",
       "20      3.700000  3.250000  3.761905  3.071429  2.900000  3.136364  2.500000   \n",
       "21      3.222222  3.454545  3.653846  3.342105  3.289474  4.000000  3.571429   \n",
       "22      3.055556  3.742424  3.391304  3.395522  3.493976  3.300000  3.000000   \n",
       "23      3.347826  3.770270  3.592814  3.500000  3.577640  3.491667  3.600000   \n",
       "24      3.000000  4.000000  3.750000  3.333333  3.833333  4.000000  4.000000   \n",
       "25      5.000000  2.500000  3.000000  3.166667  3.181818       NaN       NaN   \n",
       "26           NaN  3.977273  3.147059  3.222222  3.716418  3.722222  3.750000   \n",
       "27           NaN  4.333333  3.800000  4.000000  3.600000  5.000000       NaN   \n",
       "28      5.000000  4.285714  4.222222  3.600000  4.384615  4.571429       NaN   \n",
       "29           NaN  2.500000  0.875000  3.000000  2.833333  4.500000       NaN   \n",
       "30      3.780488  3.877778  3.876344  3.337500  3.792727  4.023810  3.895833   \n",
       "...          ...       ...       ...       ...       ...       ...       ...   \n",
       "642     4.333333  3.571429  3.600000  4.333333  3.000000  4.000000  4.000000   \n",
       "643          NaN  5.000000  2.000000  4.833333  3.400000  2.000000       NaN   \n",
       "644     4.000000  4.000000  4.000000  3.250000  5.000000  5.000000       NaN   \n",
       "645     3.250000  3.500000  3.300000  3.900000  3.714286  3.500000  3.500000   \n",
       "646     4.291667  4.333333  4.034483  4.159091  4.157895  4.500000  3.833333   \n",
       "647     4.500000  4.200000  4.571429  4.000000  4.016949  4.000000  4.333333   \n",
       "648     2.642857  3.269231  3.627907  2.583333  3.377358  3.714286  3.333333   \n",
       "649     3.400000  3.166667  3.458333  2.454545  3.827586  3.400000  3.000000   \n",
       "650          NaN  3.000000  3.333333  3.666667  3.500000       NaN       NaN   \n",
       "651     4.000000       NaN  3.666667  4.666667       NaN  4.000000       NaN   \n",
       "652     4.050000  4.214286  4.273196  4.229730  4.108696  4.333333       NaN   \n",
       "653     4.500000  3.333333  4.250000  4.600000  3.400000  4.000000  3.500000   \n",
       "654     4.151515  4.255556  3.978448  3.966942  4.070122  4.157895  4.300000   \n",
       "655     4.200000  4.000000  4.214286  3.666667  4.020000  5.000000  4.000000   \n",
       "656     4.833333  4.785714  4.466667  4.545455  4.315789  4.750000  4.000000   \n",
       "657     3.000000  3.000000  3.000000  3.333333  3.636364  3.500000  4.000000   \n",
       "658     4.666667  4.000000  4.473684  4.000000  4.000000  4.700000  4.000000   \n",
       "659     4.000000  3.285714  3.405405  3.263158  3.238095  3.500000  3.000000   \n",
       "660     4.500000  4.363636  4.166667  4.186047  4.050000  4.000000  5.000000   \n",
       "661          NaN  4.500000  3.750000  4.333333  3.333333  4.500000       NaN   \n",
       "662     3.666667  3.000000  3.437500  3.000000  3.052632  4.666667  3.000000   \n",
       "663          NaN  3.500000  3.500000  3.812500  3.687500  4.000000       NaN   \n",
       "664     3.500000  3.961538  3.696078  3.805732  3.811203  3.661290  4.166667   \n",
       "665     3.828571  3.214286  3.282443  3.357143  3.175676  3.615385  3.222222   \n",
       "666     2.500000       NaN  2.400000  2.800000  3.071429  3.333333  4.000000   \n",
       "667     3.666667  4.000000  3.260870  4.250000  3.500000  3.833333  3.000000   \n",
       "668          NaN  3.000000  5.000000       NaN  4.500000  4.500000       NaN   \n",
       "669          NaN  3.666667  3.250000  2.875000  3.076923       NaN  5.000000   \n",
       "670          NaN  3.750000  3.714286  3.750000  3.900000  4.333333  1.000000   \n",
       "671     4.250000  4.250000  3.869565  4.041667  4.052632  3.857143  3.500000   \n",
       "\n",
       "        (no genres listed)  \n",
       "userId                      \n",
       "1                 3.777778  \n",
       "2                 3.777778  \n",
       "3                 3.777778  \n",
       "4                 3.777778  \n",
       "5                 3.777778  \n",
       "6                 3.777778  \n",
       "7                 3.777778  \n",
       "8                 3.777778  \n",
       "9                 3.777778  \n",
       "10                3.777778  \n",
       "11                3.777778  \n",
       "12                3.777778  \n",
       "13                3.777778  \n",
       "14                3.777778  \n",
       "15                3.777778  \n",
       "16                3.777778  \n",
       "17                3.777778  \n",
       "18                3.777778  \n",
       "19                3.777778  \n",
       "20                3.777778  \n",
       "21                3.777778  \n",
       "22                3.777778  \n",
       "23                3.777778  \n",
       "24                3.777778  \n",
       "25                3.777778  \n",
       "26                3.777778  \n",
       "27                3.777778  \n",
       "28                3.777778  \n",
       "29                3.777778  \n",
       "30                3.777778  \n",
       "...                    ...  \n",
       "642               3.777778  \n",
       "643               3.777778  \n",
       "644               3.777778  \n",
       "645               3.777778  \n",
       "646               3.777778  \n",
       "647               3.777778  \n",
       "648               3.777778  \n",
       "649               3.777778  \n",
       "650               3.777778  \n",
       "651               3.777778  \n",
       "652               3.777778  \n",
       "653               3.777778  \n",
       "654               3.777778  \n",
       "655               3.777778  \n",
       "656               3.777778  \n",
       "657               3.777778  \n",
       "658               3.777778  \n",
       "659               3.777778  \n",
       "660               3.777778  \n",
       "661               3.777778  \n",
       "662               3.777778  \n",
       "663               3.777778  \n",
       "664               3.777778  \n",
       "665               3.777778  \n",
       "666               3.777778  \n",
       "667               3.777778  \n",
       "668               3.777778  \n",
       "669               3.777778  \n",
       "670               3.777778  \n",
       "671               3.777778  \n",
       "\n",
       "[671 rows x 20 columns]"
      ]
     },
     "execution_count": 317,
     "metadata": {},
     "output_type": "execute_result"
    }
   ],
   "source": [
    "user_vector"
   ]
  },
  {
   "cell_type": "code",
   "execution_count": 377,
   "metadata": {
    "collapsed": false
   },
   "outputs": [
    {
     "data": {
      "text/plain": [
       "StandardScaler(copy=True, with_mean=True, with_std=True)"
      ]
     },
     "execution_count": 377,
     "metadata": {},
     "output_type": "execute_result"
    }
   ],
   "source": [
    "scaler.fit(user_vector)"
   ]
  },
  {
   "cell_type": "code",
   "execution_count": 88,
   "metadata": {
    "collapsed": false
   },
   "outputs": [
    {
     "data": {
      "text/plain": [
       "<pandas.core.groupby.SeriesGroupBy object at 0x1104af908>"
      ]
     },
     "execution_count": 88,
     "metadata": {},
     "output_type": "execute_result"
    }
   ],
   "source": []
  },
  {
   "cell_type": "code",
   "execution_count": null,
   "metadata": {
    "collapsed": true
   },
   "outputs": [],
   "source": []
  },
  {
   "cell_type": "code",
   "execution_count": 242,
   "metadata": {
    "collapsed": false
   },
   "outputs": [],
   "source": [
    "group = user_movies[(user_movies['genres'].apply(lambda genre: 'Adventure' in takeGenres(genre)))][['rating', 'userId']]"
   ]
  },
  {
   "cell_type": "code",
   "execution_count": 244,
   "metadata": {
    "collapsed": true
   },
   "outputs": [],
   "source": [
    "groupByUserId = group.groupby('userId')['rating'].mean()"
   ]
  },
  {
   "cell_type": "code",
   "execution_count": 339,
   "metadata": {
    "collapsed": false
   },
   "outputs": [],
   "source": [
    "def fillNa(x):\n",
    "    if x is None:\n",
    "        x = (x - user_vector['Animation'].mean()) - user_vector['Animation'].std()\n",
    "    return x"
   ]
  },
  {
   "cell_type": "code",
   "execution_count": 374,
   "metadata": {
    "collapsed": false
   },
   "outputs": [
    {
     "data": {
      "text/html": [
       "<div>\n",
       "<table border=\"1\" class=\"dataframe\">\n",
       "  <thead>\n",
       "    <tr style=\"text-align: right;\">\n",
       "      <th></th>\n",
       "      <th>Action</th>\n",
       "      <th>Adventure</th>\n",
       "      <th>Animation</th>\n",
       "      <th>Children</th>\n",
       "      <th>Comedy</th>\n",
       "      <th>Crime</th>\n",
       "      <th>Documentary</th>\n",
       "      <th>Drama</th>\n",
       "      <th>Fantasy</th>\n",
       "      <th>Film-Noir</th>\n",
       "      <th>Horror</th>\n",
       "      <th>IMAX</th>\n",
       "      <th>Musical</th>\n",
       "      <th>Mystery</th>\n",
       "      <th>Romance</th>\n",
       "      <th>Sci-Fi</th>\n",
       "      <th>Thriller</th>\n",
       "      <th>War</th>\n",
       "      <th>Western</th>\n",
       "      <th>(no genres listed)</th>\n",
       "    </tr>\n",
       "  </thead>\n",
       "  <tbody>\n",
       "    <tr>\n",
       "      <th>count</th>\n",
       "      <td>671.000000</td>\n",
       "      <td>671.000000</td>\n",
       "      <td>671.000000</td>\n",
       "      <td>671.000000</td>\n",
       "      <td>671.000000</td>\n",
       "      <td>671.000000</td>\n",
       "      <td>671.000000</td>\n",
       "      <td>671.000000</td>\n",
       "      <td>671.000000</td>\n",
       "      <td>671.000000</td>\n",
       "      <td>671.000000</td>\n",
       "      <td>671.000000</td>\n",
       "      <td>671.000000</td>\n",
       "      <td>671.000000</td>\n",
       "      <td>671.000000</td>\n",
       "      <td>671.000000</td>\n",
       "      <td>671.000000</td>\n",
       "      <td>671.000000</td>\n",
       "      <td>671.000000</td>\n",
       "      <td>14.000000</td>\n",
       "    </tr>\n",
       "    <tr>\n",
       "      <th>mean</th>\n",
       "      <td>3.526124</td>\n",
       "      <td>3.573985</td>\n",
       "      <td>3.678009</td>\n",
       "      <td>3.517071</td>\n",
       "      <td>3.553431</td>\n",
       "      <td>3.771623</td>\n",
       "      <td>3.938111</td>\n",
       "      <td>3.767477</td>\n",
       "      <td>3.593196</td>\n",
       "      <td>3.962349</td>\n",
       "      <td>3.447001</td>\n",
       "      <td>3.800101</td>\n",
       "      <td>3.601629</td>\n",
       "      <td>3.752541</td>\n",
       "      <td>3.650533</td>\n",
       "      <td>3.521861</td>\n",
       "      <td>3.631393</td>\n",
       "      <td>3.904402</td>\n",
       "      <td>3.649796</td>\n",
       "      <td>3.821429</td>\n",
       "    </tr>\n",
       "    <tr>\n",
       "      <th>std</th>\n",
       "      <td>0.598295</td>\n",
       "      <td>0.629148</td>\n",
       "      <td>0.752195</td>\n",
       "      <td>0.749480</td>\n",
       "      <td>0.528579</td>\n",
       "      <td>0.591998</td>\n",
       "      <td>0.570284</td>\n",
       "      <td>0.513185</td>\n",
       "      <td>0.689476</td>\n",
       "      <td>0.507112</td>\n",
       "      <td>0.807216</td>\n",
       "      <td>0.633642</td>\n",
       "      <td>0.734852</td>\n",
       "      <td>0.670771</td>\n",
       "      <td>0.598436</td>\n",
       "      <td>0.684872</td>\n",
       "      <td>0.576715</td>\n",
       "      <td>0.674386</td>\n",
       "      <td>0.694769</td>\n",
       "      <td>1.190623</td>\n",
       "    </tr>\n",
       "    <tr>\n",
       "      <th>min</th>\n",
       "      <td>0.500000</td>\n",
       "      <td>0.500000</td>\n",
       "      <td>0.500000</td>\n",
       "      <td>1.000000</td>\n",
       "      <td>1.300000</td>\n",
       "      <td>0.500000</td>\n",
       "      <td>0.500000</td>\n",
       "      <td>0.875000</td>\n",
       "      <td>1.000000</td>\n",
       "      <td>0.500000</td>\n",
       "      <td>0.500000</td>\n",
       "      <td>0.500000</td>\n",
       "      <td>0.500000</td>\n",
       "      <td>0.500000</td>\n",
       "      <td>0.875000</td>\n",
       "      <td>0.500000</td>\n",
       "      <td>0.500000</td>\n",
       "      <td>0.500000</td>\n",
       "      <td>0.500000</td>\n",
       "      <td>1.250000</td>\n",
       "    </tr>\n",
       "    <tr>\n",
       "      <th>25%</th>\n",
       "      <td>3.191407</td>\n",
       "      <td>3.226496</td>\n",
       "      <td>3.333333</td>\n",
       "      <td>3.166667</td>\n",
       "      <td>3.275413</td>\n",
       "      <td>3.470833</td>\n",
       "      <td>4.000000</td>\n",
       "      <td>3.517241</td>\n",
       "      <td>3.225577</td>\n",
       "      <td>4.000000</td>\n",
       "      <td>3.000000</td>\n",
       "      <td>3.500000</td>\n",
       "      <td>3.254630</td>\n",
       "      <td>3.453835</td>\n",
       "      <td>3.333333</td>\n",
       "      <td>3.166667</td>\n",
       "      <td>3.315038</td>\n",
       "      <td>3.602083</td>\n",
       "      <td>3.396429</td>\n",
       "      <td>3.562500</td>\n",
       "    </tr>\n",
       "    <tr>\n",
       "      <th>50%</th>\n",
       "      <td>3.562092</td>\n",
       "      <td>3.635417</td>\n",
       "      <td>3.888889</td>\n",
       "      <td>3.602632</td>\n",
       "      <td>3.577677</td>\n",
       "      <td>3.810096</td>\n",
       "      <td>4.000000</td>\n",
       "      <td>3.796552</td>\n",
       "      <td>3.660714</td>\n",
       "      <td>4.000000</td>\n",
       "      <td>3.500000</td>\n",
       "      <td>3.875000</td>\n",
       "      <td>3.666667</td>\n",
       "      <td>3.828571</td>\n",
       "      <td>3.669118</td>\n",
       "      <td>3.592330</td>\n",
       "      <td>3.666667</td>\n",
       "      <td>4.000000</td>\n",
       "      <td>3.732143</td>\n",
       "      <td>4.000000</td>\n",
       "    </tr>\n",
       "    <tr>\n",
       "      <th>75%</th>\n",
       "      <td>3.930952</td>\n",
       "      <td>4.000000</td>\n",
       "      <td>4.047727</td>\n",
       "      <td>4.000000</td>\n",
       "      <td>3.916667</td>\n",
       "      <td>4.165686</td>\n",
       "      <td>4.000000</td>\n",
       "      <td>4.101181</td>\n",
       "      <td>4.000000</td>\n",
       "      <td>4.000000</td>\n",
       "      <td>4.000000</td>\n",
       "      <td>4.000000</td>\n",
       "      <td>4.000000</td>\n",
       "      <td>4.125000</td>\n",
       "      <td>4.024128</td>\n",
       "      <td>4.000000</td>\n",
       "      <td>4.000000</td>\n",
       "      <td>4.333333</td>\n",
       "      <td>4.000000</td>\n",
       "      <td>4.500000</td>\n",
       "    </tr>\n",
       "    <tr>\n",
       "      <th>max</th>\n",
       "      <td>5.000000</td>\n",
       "      <td>5.000000</td>\n",
       "      <td>5.000000</td>\n",
       "      <td>5.000000</td>\n",
       "      <td>4.913043</td>\n",
       "      <td>5.000000</td>\n",
       "      <td>5.000000</td>\n",
       "      <td>5.000000</td>\n",
       "      <td>5.000000</td>\n",
       "      <td>5.000000</td>\n",
       "      <td>5.000000</td>\n",
       "      <td>5.000000</td>\n",
       "      <td>5.000000</td>\n",
       "      <td>5.000000</td>\n",
       "      <td>5.000000</td>\n",
       "      <td>5.000000</td>\n",
       "      <td>5.000000</td>\n",
       "      <td>5.000000</td>\n",
       "      <td>5.000000</td>\n",
       "      <td>5.000000</td>\n",
       "    </tr>\n",
       "  </tbody>\n",
       "</table>\n",
       "</div>"
      ],
      "text/plain": [
       "           Action   Adventure   Animation    Children      Comedy       Crime  \\\n",
       "count  671.000000  671.000000  671.000000  671.000000  671.000000  671.000000   \n",
       "mean     3.526124    3.573985    3.678009    3.517071    3.553431    3.771623   \n",
       "std      0.598295    0.629148    0.752195    0.749480    0.528579    0.591998   \n",
       "min      0.500000    0.500000    0.500000    1.000000    1.300000    0.500000   \n",
       "25%      3.191407    3.226496    3.333333    3.166667    3.275413    3.470833   \n",
       "50%      3.562092    3.635417    3.888889    3.602632    3.577677    3.810096   \n",
       "75%      3.930952    4.000000    4.047727    4.000000    3.916667    4.165686   \n",
       "max      5.000000    5.000000    5.000000    5.000000    4.913043    5.000000   \n",
       "\n",
       "       Documentary       Drama     Fantasy   Film-Noir      Horror  \\\n",
       "count   671.000000  671.000000  671.000000  671.000000  671.000000   \n",
       "mean      3.938111    3.767477    3.593196    3.962349    3.447001   \n",
       "std       0.570284    0.513185    0.689476    0.507112    0.807216   \n",
       "min       0.500000    0.875000    1.000000    0.500000    0.500000   \n",
       "25%       4.000000    3.517241    3.225577    4.000000    3.000000   \n",
       "50%       4.000000    3.796552    3.660714    4.000000    3.500000   \n",
       "75%       4.000000    4.101181    4.000000    4.000000    4.000000   \n",
       "max       5.000000    5.000000    5.000000    5.000000    5.000000   \n",
       "\n",
       "             IMAX     Musical     Mystery     Romance      Sci-Fi    Thriller  \\\n",
       "count  671.000000  671.000000  671.000000  671.000000  671.000000  671.000000   \n",
       "mean     3.800101    3.601629    3.752541    3.650533    3.521861    3.631393   \n",
       "std      0.633642    0.734852    0.670771    0.598436    0.684872    0.576715   \n",
       "min      0.500000    0.500000    0.500000    0.875000    0.500000    0.500000   \n",
       "25%      3.500000    3.254630    3.453835    3.333333    3.166667    3.315038   \n",
       "50%      3.875000    3.666667    3.828571    3.669118    3.592330    3.666667   \n",
       "75%      4.000000    4.000000    4.125000    4.024128    4.000000    4.000000   \n",
       "max      5.000000    5.000000    5.000000    5.000000    5.000000    5.000000   \n",
       "\n",
       "              War     Western  (no genres listed)  \n",
       "count  671.000000  671.000000           14.000000  \n",
       "mean     3.904402    3.649796            3.821429  \n",
       "std      0.674386    0.694769            1.190623  \n",
       "min      0.500000    0.500000            1.250000  \n",
       "25%      3.602083    3.396429            3.562500  \n",
       "50%      4.000000    3.732143            4.000000  \n",
       "75%      4.333333    4.000000            4.500000  \n",
       "max      5.000000    5.000000            5.000000  "
      ]
     },
     "execution_count": 374,
     "metadata": {},
     "output_type": "execute_result"
    }
   ],
   "source": [
    "user_vector.describe()"
   ]
  },
  {
   "cell_type": "code",
   "execution_count": 347,
   "metadata": {
    "collapsed": false
   },
   "outputs": [],
   "source": [
    "user_vector['Animation'].fillna(value=3.562092, inplace=True)"
   ]
  },
  {
   "cell_type": "code",
   "execution_count": 348,
   "metadata": {
    "collapsed": false
   },
   "outputs": [],
   "source": [
    "user_vector['Adventure'].fillna(value=3.633282, inplace=True)"
   ]
  },
  {
   "cell_type": "code",
   "execution_count": 349,
   "metadata": {
    "collapsed": false
   },
   "outputs": [],
   "source": [
    "user_vector['Animation'].fillna(value=3.750000, inplace=True)"
   ]
  },
  {
   "cell_type": "code",
   "execution_count": 352,
   "metadata": {
    "collapsed": true
   },
   "outputs": [],
   "source": [
    "user_vector['Children'].fillna(value=3.602632, inplace=True)"
   ]
  },
  {
   "cell_type": "code",
   "execution_count": 353,
   "metadata": {
    "collapsed": false
   },
   "outputs": [],
   "source": [
    "user_vector['Comedy'].fillna(value=3.577677\t, inplace=True)"
   ]
  },
  {
   "cell_type": "code",
   "execution_count": 354,
   "metadata": {
    "collapsed": true
   },
   "outputs": [],
   "source": [
    "user_vector['Crime'].fillna(value=3.810096, inplace=True)"
   ]
  },
  {
   "cell_type": "code",
   "execution_count": 356,
   "metadata": {
    "collapsed": true
   },
   "outputs": [],
   "source": [
    "user_vector['Documentary'].fillna(value=4.000000, inplace=True)\n"
   ]
  },
  {
   "cell_type": "code",
   "execution_count": 357,
   "metadata": {
    "collapsed": true
   },
   "outputs": [],
   "source": [
    "user_vector['Drama'].fillna(value=3.796552, inplace=True)"
   ]
  },
  {
   "cell_type": "code",
   "execution_count": 358,
   "metadata": {
    "collapsed": true
   },
   "outputs": [],
   "source": [
    "user_vector['Fantasy'].fillna(value=3.660714, inplace=True)"
   ]
  },
  {
   "cell_type": "code",
   "execution_count": 359,
   "metadata": {
    "collapsed": true
   },
   "outputs": [],
   "source": [
    "user_vector['Film-Noir'].fillna(value=4.000000, inplace=True)"
   ]
  },
  {
   "cell_type": "code",
   "execution_count": 361,
   "metadata": {
    "collapsed": true
   },
   "outputs": [],
   "source": [
    "user_vector['Horror'].fillna(value=3.500000, inplace=True)"
   ]
  },
  {
   "cell_type": "code",
   "execution_count": 362,
   "metadata": {
    "collapsed": true
   },
   "outputs": [],
   "source": [
    "user_vector['IMAX'].fillna(value=3.875000, inplace=True)"
   ]
  },
  {
   "cell_type": "code",
   "execution_count": 363,
   "metadata": {
    "collapsed": true
   },
   "outputs": [],
   "source": [
    "user_vector['Musical'].fillna(value=3.666667, inplace=True)"
   ]
  },
  {
   "cell_type": "code",
   "execution_count": 364,
   "metadata": {
    "collapsed": true
   },
   "outputs": [],
   "source": [
    "user_vector['Mystery'].fillna(value=3.828571, inplace=True)"
   ]
  },
  {
   "cell_type": "code",
   "execution_count": 366,
   "metadata": {
    "collapsed": true
   },
   "outputs": [],
   "source": [
    "user_vector['Romance'].fillna(value=3.669118, inplace=True)"
   ]
  },
  {
   "cell_type": "code",
   "execution_count": 367,
   "metadata": {
    "collapsed": true
   },
   "outputs": [],
   "source": [
    "user_vector['Sci-Fi'].fillna(value=3.592330, inplace=True)\n"
   ]
  },
  {
   "cell_type": "code",
   "execution_count": 368,
   "metadata": {
    "collapsed": true
   },
   "outputs": [],
   "source": [
    "user_vector['Thriller'].fillna(value=3.666667, inplace=True)\n"
   ]
  },
  {
   "cell_type": "code",
   "execution_count": 370,
   "metadata": {
    "collapsed": true
   },
   "outputs": [],
   "source": [
    "user_vector['War'].fillna(value=4.000000, inplace=True)\n"
   ]
  },
  {
   "cell_type": "code",
   "execution_count": 371,
   "metadata": {
    "collapsed": true
   },
   "outputs": [],
   "source": [
    "user_vector['Western'].fillna(value=3.732143, inplace=True)\n"
   ]
  },
  {
   "cell_type": "code",
   "execution_count": 375,
   "metadata": {
    "collapsed": true
   },
   "outputs": [],
   "source": [
    "user_vector['(no genres listed)'].fillna(value=4.000000, inplace=True)\n"
   ]
  },
  {
   "cell_type": "code",
   "execution_count": null,
   "metadata": {
    "collapsed": false
   },
   "outputs": [],
   "source": []
  },
  {
   "cell_type": "code",
   "execution_count": 372,
   "metadata": {
    "collapsed": true
   },
   "outputs": [],
   "source": [
    "group = user_movies[(user_movies['genres'].apply(lambda genre: '(no genres listed)' in takeGenres(genre)))][['rating', 'userId']]"
   ]
  },
  {
   "cell_type": "code",
   "execution_count": 373,
   "metadata": {
    "collapsed": true
   },
   "outputs": [],
   "source": [
    "user_vector['(no genres listed)'] = group.groupby('userId').mean()"
   ]
  },
  {
   "cell_type": "code",
   "execution_count": null,
   "metadata": {
    "collapsed": true
   },
   "outputs": [],
   "source": []
  },
  {
   "cell_type": "code",
   "execution_count": 48,
   "metadata": {
    "collapsed": true
   },
   "outputs": [],
   "source": [
    "user_vector['Romance'] = group"
   ]
  },
  {
   "cell_type": "code",
   "execution_count": 252,
   "metadata": {
    "collapsed": true
   },
   "outputs": [],
   "source": [
    "group = user_movies[(user_movies['genres'].apply(lambda genre: 'Sci-Fi' in takeGenres(genre)))][['rating', 'userId']]"
   ]
  },
  {
   "cell_type": "code",
   "execution_count": null,
   "metadata": {
    "collapsed": false
   },
   "outputs": [],
   "source": []
  },
  {
   "cell_type": "code",
   "execution_count": null,
   "metadata": {
    "collapsed": true
   },
   "outputs": [],
   "source": []
  },
  {
   "cell_type": "code",
   "execution_count": 255,
   "metadata": {
    "collapsed": true
   },
   "outputs": [],
   "source": [
    "group = user_movies[(user_movies['genres'].apply(lambda genre: 'Thriller' in takeGenres(genre)))][['rating', 'userId']]"
   ]
  },
  {
   "cell_type": "code",
   "execution_count": 257,
   "metadata": {
    "collapsed": false
   },
   "outputs": [],
   "source": [
    "user_vector['Thriller'] = group.groupby('userId')['rating'].mean()"
   ]
  },
  {
   "cell_type": "code",
   "execution_count": null,
   "metadata": {
    "collapsed": true
   },
   "outputs": [],
   "source": []
  },
  {
   "cell_type": "code",
   "execution_count": 258,
   "metadata": {
    "collapsed": true
   },
   "outputs": [],
   "source": [
    "group = user_movies[(user_movies['genres'].apply(lambda genre: 'War' in takeGenres(genre)))][['rating', 'userId']]"
   ]
  },
  {
   "cell_type": "code",
   "execution_count": 259,
   "metadata": {
    "collapsed": true
   },
   "outputs": [],
   "source": [
    "user_vector['War'] = group.groupby('userId')['rating'].mean()"
   ]
  },
  {
   "cell_type": "code",
   "execution_count": null,
   "metadata": {
    "collapsed": true
   },
   "outputs": [],
   "source": []
  },
  {
   "cell_type": "code",
   "execution_count": 260,
   "metadata": {
    "collapsed": true
   },
   "outputs": [],
   "source": [
    "group = user_movies[(user_movies['genres'].apply(lambda genre: 'Western' in takeGenres(genre)))][['rating', 'userId']]"
   ]
  },
  {
   "cell_type": "code",
   "execution_count": 261,
   "metadata": {
    "collapsed": true
   },
   "outputs": [],
   "source": [
    "user_vector['Western'] = group.groupby('userId')['rating'].mean()"
   ]
  },
  {
   "cell_type": "code",
   "execution_count": 57,
   "metadata": {
    "collapsed": true
   },
   "outputs": [],
   "source": [
    "group = user_movies[(user_movies['genres'].apply(lambda genre: 'Adventure' in takeGenres(genre)))]['rating'].mean()"
   ]
  },
  {
   "cell_type": "code",
   "execution_count": 58,
   "metadata": {
    "collapsed": true
   },
   "outputs": [],
   "source": [
    "user_vector['Adventure'] = group"
   ]
  },
  {
   "cell_type": "code",
   "execution_count": 87,
   "metadata": {
    "collapsed": false
   },
   "outputs": [],
   "source": [
    "group_by = group_by.mean()"
   ]
  },
  {
   "cell_type": "code",
   "execution_count": 89,
   "metadata": {
    "collapsed": false
   },
   "outputs": [],
   "source": [
    "user_vector['Adventure'] = group_by"
   ]
  },
  {
   "cell_type": "code",
   "execution_count": 90,
   "metadata": {
    "collapsed": false
   },
   "outputs": [
    {
     "data": {
      "text/plain": [
       "userId\n",
       "1      2.550000\n",
       "2      3.486842\n",
       "3      3.568627\n",
       "4      4.348039\n",
       "5      3.910000\n",
       "6      3.261364\n",
       "7      3.465909\n",
       "8      3.866379\n",
       "9      3.755556\n",
       "10     3.695652\n",
       "11     4.078947\n",
       "12     2.754098\n",
       "13     3.745283\n",
       "14     2.950000\n",
       "15     2.621765\n",
       "16     4.120690\n",
       "17     3.743802\n",
       "18     3.235294\n",
       "19     3.534279\n",
       "20     3.290816\n",
       "21     3.506173\n",
       "22     3.275000\n",
       "23     3.632920\n",
       "24     3.666667\n",
       "25     3.115385\n",
       "26     3.468023\n",
       "27     3.826087\n",
       "28     4.280000\n",
       "29     2.863636\n",
       "30     3.765084\n",
       "         ...   \n",
       "642    3.916667\n",
       "643    3.395833\n",
       "644    3.743590\n",
       "645    3.683333\n",
       "646    4.130178\n",
       "647    4.273333\n",
       "648    3.628906\n",
       "649    3.511111\n",
       "650    3.310345\n",
       "651    3.900000\n",
       "652    4.220974\n",
       "653    4.000000\n",
       "654    4.068690\n",
       "655    4.085714\n",
       "656    4.523438\n",
       "657    3.500000\n",
       "658    4.350000\n",
       "659    3.387324\n",
       "660    4.168478\n",
       "661    3.833333\n",
       "662    3.396552\n",
       "663    3.730769\n",
       "664    3.796724\n",
       "665    3.285714\n",
       "666    2.950000\n",
       "667    3.647059\n",
       "668    3.750000\n",
       "669    3.351351\n",
       "670    3.806452\n",
       "671    3.917391\n",
       "Name: Adventure, dtype: float64"
      ]
     },
     "execution_count": 90,
     "metadata": {},
     "output_type": "execute_result"
    }
   ],
   "source": [
    "user_vector['Adventure']"
   ]
  },
  {
   "cell_type": "code",
   "execution_count": 76,
   "metadata": {
    "collapsed": false
   },
   "outputs": [
    {
     "name": "stdout",
     "output_type": "stream",
     "text": [
      "<class 'pandas.core.frame.DataFrame'>\n",
      "Int64Index: 671 entries, 1 to 671\n",
      "Data columns (total 20 columns):\n",
      "Action                671 non-null float64\n",
      "Adventure             671 non-null float64\n",
      "Animation             671 non-null float64\n",
      "Children              671 non-null float64\n",
      "Comedy                671 non-null float64\n",
      "Crime                 671 non-null float64\n",
      "Documentary           671 non-null float64\n",
      "Drama                 671 non-null float64\n",
      "Fantasy               671 non-null float64\n",
      "Film-Noir             671 non-null float64\n",
      "Horror                671 non-null float64\n",
      "IMAX                  671 non-null float64\n",
      "Musical               671 non-null float64\n",
      "Mystery               671 non-null float64\n",
      "Romance               671 non-null float64\n",
      "Sci-Fi                671 non-null float64\n",
      "Thriller              671 non-null float64\n",
      "War                   671 non-null float64\n",
      "Western               671 non-null float64\n",
      "(no genres listed)    671 non-null float64\n",
      "dtypes: float64(20)\n",
      "memory usage: 110.1 KB\n"
     ]
    }
   ],
   "source": [
    "user_vector.info()"
   ]
  },
  {
   "cell_type": "code",
   "execution_count": null,
   "metadata": {
    "collapsed": false,
    "scrolled": true
   },
   "outputs": [],
   "source": []
  },
  {
   "cell_type": "code",
   "execution_count": 40,
   "metadata": {
    "collapsed": false
   },
   "outputs": [
    {
     "name": "stderr",
     "output_type": "stream",
     "text": [
      "/Users/trantphuong/anaconda/lib/python3.5/site-packages/sklearn/preprocessing/data.py:586: DeprecationWarning: Passing 1d arrays as data is deprecated in 0.17 and will raise ValueError in 0.19. Reshape your data either using X.reshape(-1, 1) if your data has a single feature or X.reshape(1, -1) if it contains a single sample.\n",
      "  warnings.warn(DEPRECATION_MSG_1D, DeprecationWarning)\n"
     ]
    },
    {
     "data": {
      "text/plain": [
       "StandardScaler(copy=True, with_mean=True, with_std=True)"
      ]
     },
     "execution_count": 40,
     "metadata": {},
     "output_type": "execute_result"
    }
   ],
   "source": [
    "scaler.fit(user_movies[(user_movies['userId'] == 1) & (user_movies['genres'].apply(lambda genre: 'Adventure' in takeGenres(genre)))]['rating'])"
   ]
  },
  {
   "cell_type": "code",
   "execution_count": 1,
   "metadata": {
    "collapsed": false
   },
   "outputs": [
    {
     "ename": "NameError",
     "evalue": "name 'scaler' is not defined",
     "output_type": "error",
     "traceback": [
      "\u001b[0;31m---------------------------------------------------------------------------\u001b[0m",
      "\u001b[0;31mNameError\u001b[0m                                 Traceback (most recent call last)",
      "\u001b[0;32m<ipython-input-1-57fc8f3e740d>\u001b[0m in \u001b[0;36m<module>\u001b[0;34m()\u001b[0m\n\u001b[0;32m----> 1\u001b[0;31m \u001b[0mscaled_features\u001b[0m \u001b[0;34m=\u001b[0m \u001b[0mscaler\u001b[0m\u001b[0;34m.\u001b[0m\u001b[0mtransform\u001b[0m\u001b[0;34m(\u001b[0m\u001b[0muser_movies\u001b[0m\u001b[0;34m[\u001b[0m\u001b[0;34m(\u001b[0m\u001b[0muser_movies\u001b[0m\u001b[0;34m[\u001b[0m\u001b[0;34m'userId'\u001b[0m\u001b[0;34m]\u001b[0m \u001b[0;34m==\u001b[0m \u001b[0;36m1\u001b[0m\u001b[0;34m)\u001b[0m \u001b[0;34m&\u001b[0m \u001b[0;34m(\u001b[0m\u001b[0muser_movies\u001b[0m\u001b[0;34m[\u001b[0m\u001b[0;34m'genres'\u001b[0m\u001b[0;34m]\u001b[0m\u001b[0;34m.\u001b[0m\u001b[0mapply\u001b[0m\u001b[0;34m(\u001b[0m\u001b[0;32mlambda\u001b[0m \u001b[0mgenre\u001b[0m\u001b[0;34m:\u001b[0m \u001b[0;34m'Adventure'\u001b[0m \u001b[0;32min\u001b[0m \u001b[0mtakeGenres\u001b[0m\u001b[0;34m(\u001b[0m\u001b[0mgenre\u001b[0m\u001b[0;34m)\u001b[0m\u001b[0;34m)\u001b[0m\u001b[0;34m)\u001b[0m\u001b[0;34m]\u001b[0m\u001b[0;34m[\u001b[0m\u001b[0;34m'rating'\u001b[0m\u001b[0;34m]\u001b[0m\u001b[0;34m)\u001b[0m\u001b[0;34m\u001b[0m\u001b[0m\n\u001b[0m",
      "\u001b[0;31mNameError\u001b[0m: name 'scaler' is not defined"
     ]
    }
   ],
   "source": [
    "scaled_features = scaler.transform(user_movies[(user_movies['userId'] == 1) & (user_movies['genres'].apply(lambda genre: 'Adventure' in takeGenres(genre)))]['rating'])"
   ]
  },
  {
   "cell_type": "code",
   "execution_count": 45,
   "metadata": {
    "collapsed": false
   },
   "outputs": [
    {
     "data": {
      "text/plain": [
       "userId\n",
       "1      0.690438\n",
       "2      1.690438\n",
       "3     -1.309562\n",
       "4     -0.309562\n",
       "5      0.190438\n",
       "6     -0.309562\n",
       "7      1.690438\n",
       "8      0.690438\n",
       "9      0.690438\n",
       "10     0.690438\n",
       "11     0.690438\n",
       "12     1.690438\n",
       "13     0.690438\n",
       "14    -0.309562\n",
       "15     0.690438\n",
       "16     1.690438\n",
       "17    -0.309562\n",
       "18     0.690438\n",
       "19     1.690438\n",
       "20     1.690438\n",
       "21     0.190438\n",
       "22     1.690438\n",
       "23    -0.309562\n",
       "24     0.690438\n",
       "25    -1.309562\n",
       "26     0.190438\n",
       "27    -0.309562\n",
       "28    -0.309562\n",
       "29     1.690438\n",
       "30     0.690438\n",
       "         ...   \n",
       "642    1.690438\n",
       "643   -2.309562\n",
       "644         NaN\n",
       "645         NaN\n",
       "646         NaN\n",
       "647         NaN\n",
       "648         NaN\n",
       "649         NaN\n",
       "650         NaN\n",
       "651         NaN\n",
       "652         NaN\n",
       "653         NaN\n",
       "654         NaN\n",
       "655         NaN\n",
       "656         NaN\n",
       "657         NaN\n",
       "658         NaN\n",
       "659         NaN\n",
       "660         NaN\n",
       "661         NaN\n",
       "662         NaN\n",
       "663         NaN\n",
       "664    0.690438\n",
       "665    0.690438\n",
       "666   -0.309562\n",
       "667   -0.309562\n",
       "668   -0.309562\n",
       "669   -0.309562\n",
       "670    1.690438\n",
       "671    0.690438\n",
       "Name: Adventure, dtype: float64"
      ]
     },
     "execution_count": 45,
     "metadata": {},
     "output_type": "execute_result"
    }
   ],
   "source": [
    "user_vector['Adventure']"
   ]
  },
  {
   "cell_type": "code",
   "execution_count": 22,
   "metadata": {
    "collapsed": false
   },
   "outputs": [
    {
     "data": {
      "text/plain": [
       "19.5"
      ]
     },
     "execution_count": 22,
     "metadata": {},
     "output_type": "execute_result"
    }
   ],
   "source": [
    "user_movies[(user_movies['userId'] == 1) & (user_movies['genres'].apply(lambda genre: 'Adventure' in takeGenres(genre)))]['rating'].sum()"
   ]
  },
  {
   "cell_type": "code",
   "execution_count": 58,
   "metadata": {
    "collapsed": false
   },
   "outputs": [],
   "source": [
    "animationCount = []\n",
    "for i in range(1, user_profile['userId'].nunique() + 1):\n",
    "    animationCount.append(user_movies[(user_movies['userId'] == i) & (user_movies['genres'].apply(lambda genre: 'Animation' in takeGenres(genre)))]['rating'].sum())"
   ]
  },
  {
   "cell_type": "code",
   "execution_count": 24,
   "metadata": {
    "collapsed": false
   },
   "outputs": [],
   "source": [
    "user_vector['Adventure'] = adventureCount"
   ]
  },
  {
   "cell_type": "code",
   "execution_count": 27,
   "metadata": {
    "collapsed": true
   },
   "outputs": [],
   "source": [
    "user_vector['Western'] = westernCount"
   ]
  },
  {
   "cell_type": "code",
   "execution_count": 31,
   "metadata": {
    "collapsed": true
   },
   "outputs": [],
   "source": [
    "user_vector['War'] = warCount"
   ]
  },
  {
   "cell_type": "code",
   "execution_count": 29,
   "metadata": {
    "collapsed": true
   },
   "outputs": [],
   "source": [
    "user_vector['Thriller'] = thrillerCount"
   ]
  },
  {
   "cell_type": "code",
   "execution_count": 33,
   "metadata": {
    "collapsed": true
   },
   "outputs": [],
   "source": [
    "user_vector['Sci-Fi'] = sciFiCount"
   ]
  },
  {
   "cell_type": "code",
   "execution_count": 35,
   "metadata": {
    "collapsed": true
   },
   "outputs": [],
   "source": [
    "user_vector['Romance'] = romanceCount"
   ]
  },
  {
   "cell_type": "code",
   "execution_count": 37,
   "metadata": {
    "collapsed": true
   },
   "outputs": [],
   "source": [
    "user_vector['Mystery'] = mysteryCount"
   ]
  },
  {
   "cell_type": "code",
   "execution_count": 39,
   "metadata": {
    "collapsed": false
   },
   "outputs": [],
   "source": [
    "user_vector['Musical'] = musicalCount"
   ]
  },
  {
   "cell_type": "code",
   "execution_count": 41,
   "metadata": {
    "collapsed": true
   },
   "outputs": [],
   "source": [
    "user_vector['IMAX'] = IMAXCount"
   ]
  },
  {
   "cell_type": "code",
   "execution_count": 43,
   "metadata": {
    "collapsed": false
   },
   "outputs": [],
   "source": [
    "user_vector['Horror'] = horrorCount"
   ]
  },
  {
   "cell_type": "code",
   "execution_count": 45,
   "metadata": {
    "collapsed": false
   },
   "outputs": [],
   "source": [
    "user_vector['Film-Noir'] = filmNoirCount"
   ]
  },
  {
   "cell_type": "code",
   "execution_count": 47,
   "metadata": {
    "collapsed": false
   },
   "outputs": [],
   "source": [
    "user_vector['Fantasy'] = fantasyCount"
   ]
  },
  {
   "cell_type": "code",
   "execution_count": 49,
   "metadata": {
    "collapsed": true
   },
   "outputs": [],
   "source": [
    "user_vector['Drama'] = dramaCount"
   ]
  },
  {
   "cell_type": "code",
   "execution_count": 51,
   "metadata": {
    "collapsed": true
   },
   "outputs": [],
   "source": [
    "user_vector['Documentary'] = documentaryCount"
   ]
  },
  {
   "cell_type": "code",
   "execution_count": 53,
   "metadata": {
    "collapsed": true
   },
   "outputs": [],
   "source": [
    "user_vector['Crime'] = crimeCount"
   ]
  },
  {
   "cell_type": "code",
   "execution_count": 55,
   "metadata": {
    "collapsed": true
   },
   "outputs": [],
   "source": [
    "user_vector['Comedy'] = comedyCount"
   ]
  },
  {
   "cell_type": "code",
   "execution_count": 57,
   "metadata": {
    "collapsed": true
   },
   "outputs": [],
   "source": [
    "user_vector['Children'] = childrenCount"
   ]
  },
  {
   "cell_type": "code",
   "execution_count": 59,
   "metadata": {
    "collapsed": true
   },
   "outputs": [],
   "source": [
    "user_vector['Animation'] = animationCount"
   ]
  },
  {
   "cell_type": "code",
   "execution_count": 61,
   "metadata": {
    "collapsed": true
   },
   "outputs": [],
   "source": []
  },
  {
   "cell_type": "code",
   "execution_count": 58,
   "metadata": {
    "collapsed": false
   },
   "outputs": [],
   "source": [
    "user_vector['Action'] = actionCount"
   ]
  },
  {
   "cell_type": "code",
   "execution_count": 6,
   "metadata": {
    "collapsed": false
   },
   "outputs": [],
   "source": [
    "user_vector = user_movies.groupby('userId').count()"
   ]
  },
  {
   "cell_type": "code",
   "execution_count": 48,
   "metadata": {
    "collapsed": false
   },
   "outputs": [
    {
     "ename": "NameError",
     "evalue": "name 'user_vector' is not defined",
     "output_type": "error",
     "traceback": [
      "\u001b[0;31m---------------------------------------------------------------------------\u001b[0m",
      "\u001b[0;31mNameError\u001b[0m                                 Traceback (most recent call last)",
      "\u001b[0;32m<ipython-input-48-fba74cd89181>\u001b[0m in \u001b[0;36m<module>\u001b[0;34m()\u001b[0m\n\u001b[0;32m----> 1\u001b[0;31m \u001b[0muser_vector\u001b[0m\u001b[0;34m\u001b[0m\u001b[0m\n\u001b[0m",
      "\u001b[0;31mNameError\u001b[0m: name 'user_vector' is not defined"
     ]
    }
   ],
   "source": [
    "user_vector"
   ]
  },
  {
   "cell_type": "code",
   "execution_count": 60,
   "metadata": {
    "collapsed": true
   },
   "outputs": [],
   "source": [
    "user_vector.to_csv('user_vector1.csv',index=True)"
   ]
  },
  {
   "cell_type": "code",
   "execution_count": 7,
   "metadata": {
    "collapsed": false
   },
   "outputs": [
    {
     "data": {
      "text/html": [
       "<div>\n",
       "<table border=\"1\" class=\"dataframe\">\n",
       "  <thead>\n",
       "    <tr style=\"text-align: right;\">\n",
       "      <th></th>\n",
       "      <th>Action</th>\n",
       "      <th>Adventure</th>\n",
       "      <th>Animation</th>\n",
       "      <th>Children</th>\n",
       "      <th>Comedy</th>\n",
       "      <th>Crime</th>\n",
       "      <th>Documentary</th>\n",
       "      <th>Drama</th>\n",
       "      <th>Fantasy</th>\n",
       "      <th>Film-Noir</th>\n",
       "      <th>Horror</th>\n",
       "      <th>IMAX</th>\n",
       "      <th>Musical</th>\n",
       "      <th>Mystery</th>\n",
       "      <th>Romance</th>\n",
       "      <th>Sci-Fi</th>\n",
       "      <th>Thriller</th>\n",
       "      <th>War</th>\n",
       "      <th>Western</th>\n",
       "    </tr>\n",
       "    <tr>\n",
       "      <th>userId</th>\n",
       "      <th></th>\n",
       "      <th></th>\n",
       "      <th></th>\n",
       "      <th></th>\n",
       "      <th></th>\n",
       "      <th></th>\n",
       "      <th></th>\n",
       "      <th></th>\n",
       "      <th></th>\n",
       "      <th></th>\n",
       "      <th></th>\n",
       "      <th></th>\n",
       "      <th></th>\n",
       "      <th></th>\n",
       "      <th></th>\n",
       "      <th></th>\n",
       "      <th></th>\n",
       "      <th></th>\n",
       "      <th></th>\n",
       "    </tr>\n",
       "  </thead>\n",
       "  <tbody>\n",
       "    <tr>\n",
       "      <th>1</th>\n",
       "      <td>5</td>\n",
       "      <td>19.5</td>\n",
       "      <td>6.0</td>\n",
       "      <td>5.0</td>\n",
       "      <td>10.0</td>\n",
       "      <td>5.0</td>\n",
       "      <td>0.0</td>\n",
       "      <td>18.0</td>\n",
       "      <td>8.5</td>\n",
       "      <td>0.0</td>\n",
       "      <td>6.0</td>\n",
       "      <td>0.0</td>\n",
       "      <td>3.0</td>\n",
       "      <td>0.0</td>\n",
       "      <td>3.5</td>\n",
       "      <td>12.0</td>\n",
       "      <td>17.0</td>\n",
       "      <td>2.0</td>\n",
       "      <td>3.0</td>\n",
       "    </tr>\n",
       "    <tr>\n",
       "      <th>2</th>\n",
       "      <td>19</td>\n",
       "      <td>45.0</td>\n",
       "      <td>22.0</td>\n",
       "      <td>28.0</td>\n",
       "      <td>99.0</td>\n",
       "      <td>33.0</td>\n",
       "      <td>0.0</td>\n",
       "      <td>141.0</td>\n",
       "      <td>34.0</td>\n",
       "      <td>0.0</td>\n",
       "      <td>14.0</td>\n",
       "      <td>8.0</td>\n",
       "      <td>15.0</td>\n",
       "      <td>16.0</td>\n",
       "      <td>79.0</td>\n",
       "      <td>19.0</td>\n",
       "      <td>70.0</td>\n",
       "      <td>19.0</td>\n",
       "      <td>10.0</td>\n",
       "    </tr>\n",
       "    <tr>\n",
       "      <th>3</th>\n",
       "      <td>16</td>\n",
       "      <td>33.0</td>\n",
       "      <td>11.5</td>\n",
       "      <td>13.5</td>\n",
       "      <td>65.0</td>\n",
       "      <td>37.0</td>\n",
       "      <td>11.0</td>\n",
       "      <td>98.0</td>\n",
       "      <td>15.0</td>\n",
       "      <td>0.0</td>\n",
       "      <td>13.5</td>\n",
       "      <td>11.5</td>\n",
       "      <td>5.0</td>\n",
       "      <td>7.5</td>\n",
       "      <td>36.5</td>\n",
       "      <td>22.0</td>\n",
       "      <td>39.0</td>\n",
       "      <td>25.0</td>\n",
       "      <td>4.0</td>\n",
       "    </tr>\n",
       "    <tr>\n",
       "      <th>4</th>\n",
       "      <td>62</td>\n",
       "      <td>269.0</td>\n",
       "      <td>113.0</td>\n",
       "      <td>190.0</td>\n",
       "      <td>381.0</td>\n",
       "      <td>158.0</td>\n",
       "      <td>8.0</td>\n",
       "      <td>250.0</td>\n",
       "      <td>169.0</td>\n",
       "      <td>5.0</td>\n",
       "      <td>71.0</td>\n",
       "      <td>5.0</td>\n",
       "      <td>116.0</td>\n",
       "      <td>45.0</td>\n",
       "      <td>126.0</td>\n",
       "      <td>183.0</td>\n",
       "      <td>177.0</td>\n",
       "      <td>19.0</td>\n",
       "      <td>3.0</td>\n",
       "    </tr>\n",
       "    <tr>\n",
       "      <th>5</th>\n",
       "      <td>12</td>\n",
       "      <td>76.5</td>\n",
       "      <td>39.0</td>\n",
       "      <td>54.5</td>\n",
       "      <td>219.0</td>\n",
       "      <td>34.5</td>\n",
       "      <td>11.0</td>\n",
       "      <td>148.5</td>\n",
       "      <td>52.5</td>\n",
       "      <td>0.0</td>\n",
       "      <td>15.5</td>\n",
       "      <td>20.0</td>\n",
       "      <td>42.5</td>\n",
       "      <td>20.0</td>\n",
       "      <td>151.0</td>\n",
       "      <td>28.0</td>\n",
       "      <td>43.5</td>\n",
       "      <td>16.0</td>\n",
       "      <td>0.0</td>\n",
       "    </tr>\n",
       "  </tbody>\n",
       "</table>\n",
       "</div>"
      ],
      "text/plain": [
       "        Action  Adventure  Animation  Children  Comedy  Crime  Documentary  \\\n",
       "userId                                                                       \n",
       "1            5       19.5        6.0       5.0    10.0    5.0          0.0   \n",
       "2           19       45.0       22.0      28.0    99.0   33.0          0.0   \n",
       "3           16       33.0       11.5      13.5    65.0   37.0         11.0   \n",
       "4           62      269.0      113.0     190.0   381.0  158.0          8.0   \n",
       "5           12       76.5       39.0      54.5   219.0   34.5         11.0   \n",
       "\n",
       "        Drama  Fantasy  Film-Noir  Horror  IMAX  Musical  Mystery  Romance  \\\n",
       "userId                                                                       \n",
       "1        18.0      8.5        0.0     6.0   0.0      3.0      0.0      3.5   \n",
       "2       141.0     34.0        0.0    14.0   8.0     15.0     16.0     79.0   \n",
       "3        98.0     15.0        0.0    13.5  11.5      5.0      7.5     36.5   \n",
       "4       250.0    169.0        5.0    71.0   5.0    116.0     45.0    126.0   \n",
       "5       148.5     52.5        0.0    15.5  20.0     42.5     20.0    151.0   \n",
       "\n",
       "        Sci-Fi  Thriller   War  Western  \n",
       "userId                                   \n",
       "1         12.0      17.0   2.0      3.0  \n",
       "2         19.0      70.0  19.0     10.0  \n",
       "3         22.0      39.0  25.0      4.0  \n",
       "4        183.0     177.0  19.0      3.0  \n",
       "5         28.0      43.5  16.0      0.0  "
      ]
     },
     "execution_count": 7,
     "metadata": {},
     "output_type": "execute_result"
    }
   ],
   "source": [
    "user_vector = pd.read_csv('user_vector1.csv', index_col='userId')\n",
    "user_vector.head()"
   ]
  },
  {
   "cell_type": "code",
   "execution_count": 63,
   "metadata": {
    "collapsed": false
   },
   "outputs": [],
   "source": [
    "from sklearn.preprocessing import StandardScaler"
   ]
  },
  {
   "cell_type": "code",
   "execution_count": 65,
   "metadata": {
    "collapsed": true
   },
   "outputs": [],
   "source": [
    "scaler = StandardScaler()"
   ]
  },
  {
   "cell_type": "code",
   "execution_count": 67,
   "metadata": {
    "collapsed": false
   },
   "outputs": [
    {
     "data": {
      "text/plain": [
       "StandardScaler(copy=True, with_mean=True, with_std=True)"
      ]
     },
     "execution_count": 67,
     "metadata": {},
     "output_type": "execute_result"
    }
   ],
   "source": [
    "scaler.fit(user_vector)"
   ]
  },
  {
   "cell_type": "code",
   "execution_count": 69,
   "metadata": {
    "collapsed": true
   },
   "outputs": [],
   "source": [
    "scaled_features = scaler.transform(user_vector)"
   ]
  },
  {
   "cell_type": "code",
   "execution_count": 72,
   "metadata": {
    "collapsed": false
   },
   "outputs": [],
   "source": [
    "df_feature = pd.DataFrame(scaled_features, columns=user_vector.columns)"
   ]
  },
  {
   "cell_type": "code",
   "execution_count": 73,
   "metadata": {
    "collapsed": false
   },
   "outputs": [
    {
     "data": {
      "text/html": [
       "<div>\n",
       "<table border=\"1\" class=\"dataframe\">\n",
       "  <thead>\n",
       "    <tr style=\"text-align: right;\">\n",
       "      <th></th>\n",
       "      <th>Action</th>\n",
       "      <th>Adventure</th>\n",
       "      <th>Animation</th>\n",
       "      <th>Children</th>\n",
       "      <th>Comedy</th>\n",
       "      <th>Crime</th>\n",
       "      <th>Documentary</th>\n",
       "      <th>Drama</th>\n",
       "      <th>Fantasy</th>\n",
       "      <th>Film-Noir</th>\n",
       "      <th>Horror</th>\n",
       "      <th>IMAX</th>\n",
       "      <th>Musical</th>\n",
       "      <th>Mystery</th>\n",
       "      <th>Romance</th>\n",
       "      <th>Sci-Fi</th>\n",
       "      <th>Thriller</th>\n",
       "      <th>War</th>\n",
       "      <th>Western</th>\n",
       "    </tr>\n",
       "  </thead>\n",
       "  <tbody>\n",
       "    <tr>\n",
       "      <th>0</th>\n",
       "      <td>-0.582893</td>\n",
       "      <td>-0.649975</td>\n",
       "      <td>-0.516771</td>\n",
       "      <td>-0.572618</td>\n",
       "      <td>-0.626578</td>\n",
       "      <td>-0.668741</td>\n",
       "      <td>-0.249091</td>\n",
       "      <td>-0.580067</td>\n",
       "      <td>-0.606002</td>\n",
       "      <td>-0.345472</td>\n",
       "      <td>-0.367683</td>\n",
       "      <td>-0.494124</td>\n",
       "      <td>-0.458795</td>\n",
       "      <td>-0.657343</td>\n",
       "      <td>-0.642342</td>\n",
       "      <td>-0.595334</td>\n",
       "      <td>-0.616186</td>\n",
       "      <td>-0.654346</td>\n",
       "      <td>-0.395934</td>\n",
       "    </tr>\n",
       "    <tr>\n",
       "      <th>1</th>\n",
       "      <td>-0.351861</td>\n",
       "      <td>-0.477347</td>\n",
       "      <td>-0.215386</td>\n",
       "      <td>-0.242026</td>\n",
       "      <td>-0.325613</td>\n",
       "      <td>-0.446356</td>\n",
       "      <td>-0.249091</td>\n",
       "      <td>-0.266523</td>\n",
       "      <td>-0.279815</td>\n",
       "      <td>-0.345472</td>\n",
       "      <td>-0.260906</td>\n",
       "      <td>-0.258779</td>\n",
       "      <td>-0.212193</td>\n",
       "      <td>-0.405806</td>\n",
       "      <td>-0.152361</td>\n",
       "      <td>-0.533356</td>\n",
       "      <td>-0.333067</td>\n",
       "      <td>-0.235942</td>\n",
       "      <td>-0.008980</td>\n",
       "    </tr>\n",
       "    <tr>\n",
       "      <th>2</th>\n",
       "      <td>-0.401368</td>\n",
       "      <td>-0.558583</td>\n",
       "      <td>-0.413170</td>\n",
       "      <td>-0.450443</td>\n",
       "      <td>-0.440588</td>\n",
       "      <td>-0.414587</td>\n",
       "      <td>0.059182</td>\n",
       "      <td>-0.376136</td>\n",
       "      <td>-0.522856</td>\n",
       "      <td>-0.345472</td>\n",
       "      <td>-0.267579</td>\n",
       "      <td>-0.155815</td>\n",
       "      <td>-0.417695</td>\n",
       "      <td>-0.539435</td>\n",
       "      <td>-0.428178</td>\n",
       "      <td>-0.506794</td>\n",
       "      <td>-0.498664</td>\n",
       "      <td>-0.088270</td>\n",
       "      <td>-0.340655</td>\n",
       "    </tr>\n",
       "    <tr>\n",
       "      <th>3</th>\n",
       "      <td>0.357739</td>\n",
       "      <td>1.039073</td>\n",
       "      <td>1.498743</td>\n",
       "      <td>2.086489</td>\n",
       "      <td>0.628004</td>\n",
       "      <td>0.546434</td>\n",
       "      <td>-0.024892</td>\n",
       "      <td>0.011332</td>\n",
       "      <td>1.447058</td>\n",
       "      <td>-0.088446</td>\n",
       "      <td>0.499881</td>\n",
       "      <td>-0.347033</td>\n",
       "      <td>1.863372</td>\n",
       "      <td>0.050103</td>\n",
       "      <td>0.152661</td>\n",
       "      <td>0.918696</td>\n",
       "      <td>0.238513</td>\n",
       "      <td>-0.235942</td>\n",
       "      <td>-0.395934</td>\n",
       "    </tr>\n",
       "    <tr>\n",
       "      <th>4</th>\n",
       "      <td>-0.467377</td>\n",
       "      <td>-0.264100</td>\n",
       "      <td>0.104836</td>\n",
       "      <td>0.138873</td>\n",
       "      <td>0.080181</td>\n",
       "      <td>-0.434443</td>\n",
       "      <td>0.059182</td>\n",
       "      <td>-0.247405</td>\n",
       "      <td>-0.043169</td>\n",
       "      <td>-0.345472</td>\n",
       "      <td>-0.240885</td>\n",
       "      <td>0.094239</td>\n",
       "      <td>0.352936</td>\n",
       "      <td>-0.342922</td>\n",
       "      <td>0.314906</td>\n",
       "      <td>-0.453671</td>\n",
       "      <td>-0.474626</td>\n",
       "      <td>-0.309778</td>\n",
       "      <td>-0.561772</td>\n",
       "    </tr>\n",
       "  </tbody>\n",
       "</table>\n",
       "</div>"
      ],
      "text/plain": [
       "     Action  Adventure  Animation  Children    Comedy     Crime  Documentary  \\\n",
       "0 -0.582893  -0.649975  -0.516771 -0.572618 -0.626578 -0.668741    -0.249091   \n",
       "1 -0.351861  -0.477347  -0.215386 -0.242026 -0.325613 -0.446356    -0.249091   \n",
       "2 -0.401368  -0.558583  -0.413170 -0.450443 -0.440588 -0.414587     0.059182   \n",
       "3  0.357739   1.039073   1.498743  2.086489  0.628004  0.546434    -0.024892   \n",
       "4 -0.467377  -0.264100   0.104836  0.138873  0.080181 -0.434443     0.059182   \n",
       "\n",
       "      Drama   Fantasy  Film-Noir    Horror      IMAX   Musical   Mystery  \\\n",
       "0 -0.580067 -0.606002  -0.345472 -0.367683 -0.494124 -0.458795 -0.657343   \n",
       "1 -0.266523 -0.279815  -0.345472 -0.260906 -0.258779 -0.212193 -0.405806   \n",
       "2 -0.376136 -0.522856  -0.345472 -0.267579 -0.155815 -0.417695 -0.539435   \n",
       "3  0.011332  1.447058  -0.088446  0.499881 -0.347033  1.863372  0.050103   \n",
       "4 -0.247405 -0.043169  -0.345472 -0.240885  0.094239  0.352936 -0.342922   \n",
       "\n",
       "    Romance    Sci-Fi  Thriller       War   Western  \n",
       "0 -0.642342 -0.595334 -0.616186 -0.654346 -0.395934  \n",
       "1 -0.152361 -0.533356 -0.333067 -0.235942 -0.008980  \n",
       "2 -0.428178 -0.506794 -0.498664 -0.088270 -0.340655  \n",
       "3  0.152661  0.918696  0.238513 -0.235942 -0.395934  \n",
       "4  0.314906 -0.453671 -0.474626 -0.309778 -0.561772  "
      ]
     },
     "execution_count": 73,
     "metadata": {},
     "output_type": "execute_result"
    }
   ],
   "source": [
    "df_feature.head()"
   ]
  },
  {
   "cell_type": "code",
   "execution_count": 74,
   "metadata": {
    "collapsed": false
   },
   "outputs": [],
   "source": [
    "user_vector.drop(['movieId', 'title', 'genres', 'rating', 'timestamp'], axis=1, inplace=True)"
   ]
  },
  {
   "cell_type": "code",
   "execution_count": null,
   "metadata": {
    "collapsed": true
   },
   "outputs": [],
   "source": [
    "def countGenres(genres):\n",
    "    for genre in genres.split('|'):\n",
    "        if genre\n",
    "\n",
    "user_movies['hobby'] = user_movies.groupby('userId').apply(lambda x: countGenres(x))"
   ]
  },
  {
   "cell_type": "code",
   "execution_count": null,
   "metadata": {
    "collapsed": false
   },
   "outputs": [],
   "source": [
    "# movies_users = pd.merge(left=user_profile, right=movies, on='movieId')\n",
    "# movies_users\n",
    "\n",
    "user_movies.set_index('userId').sort_index()"
   ]
  },
  {
   "cell_type": "code",
   "execution_count": 12,
   "metadata": {
    "collapsed": false
   },
   "outputs": [],
   "source": [
    "user_movies_df = user_movies.pivot_table(values='rating', columns='genres', index='userId')\n"
   ]
  },
  {
   "cell_type": "code",
   "execution_count": 14,
   "metadata": {
    "collapsed": false
   },
   "outputs": [
    {
     "data": {
      "text/html": [
       "<div>\n",
       "<table border=\"1\" class=\"dataframe\">\n",
       "  <thead>\n",
       "    <tr style=\"text-align: right;\">\n",
       "      <th>movieId</th>\n",
       "      <th>1</th>\n",
       "      <th>2</th>\n",
       "      <th>3</th>\n",
       "      <th>4</th>\n",
       "      <th>5</th>\n",
       "      <th>6</th>\n",
       "      <th>7</th>\n",
       "      <th>8</th>\n",
       "      <th>9</th>\n",
       "      <th>10</th>\n",
       "      <th>...</th>\n",
       "      <th>161084</th>\n",
       "      <th>161155</th>\n",
       "      <th>161594</th>\n",
       "      <th>161830</th>\n",
       "      <th>161918</th>\n",
       "      <th>161944</th>\n",
       "      <th>162376</th>\n",
       "      <th>162542</th>\n",
       "      <th>162672</th>\n",
       "      <th>163949</th>\n",
       "    </tr>\n",
       "    <tr>\n",
       "      <th>userId</th>\n",
       "      <th></th>\n",
       "      <th></th>\n",
       "      <th></th>\n",
       "      <th></th>\n",
       "      <th></th>\n",
       "      <th></th>\n",
       "      <th></th>\n",
       "      <th></th>\n",
       "      <th></th>\n",
       "      <th></th>\n",
       "      <th></th>\n",
       "      <th></th>\n",
       "      <th></th>\n",
       "      <th></th>\n",
       "      <th></th>\n",
       "      <th></th>\n",
       "      <th></th>\n",
       "      <th></th>\n",
       "      <th></th>\n",
       "      <th></th>\n",
       "      <th></th>\n",
       "    </tr>\n",
       "  </thead>\n",
       "  <tbody>\n",
       "    <tr>\n",
       "      <th>1</th>\n",
       "      <td>NaN</td>\n",
       "      <td>NaN</td>\n",
       "      <td>NaN</td>\n",
       "      <td>NaN</td>\n",
       "      <td>NaN</td>\n",
       "      <td>NaN</td>\n",
       "      <td>NaN</td>\n",
       "      <td>NaN</td>\n",
       "      <td>NaN</td>\n",
       "      <td>NaN</td>\n",
       "      <td>...</td>\n",
       "      <td>NaN</td>\n",
       "      <td>NaN</td>\n",
       "      <td>NaN</td>\n",
       "      <td>NaN</td>\n",
       "      <td>NaN</td>\n",
       "      <td>NaN</td>\n",
       "      <td>NaN</td>\n",
       "      <td>NaN</td>\n",
       "      <td>NaN</td>\n",
       "      <td>NaN</td>\n",
       "    </tr>\n",
       "    <tr>\n",
       "      <th>2</th>\n",
       "      <td>NaN</td>\n",
       "      <td>NaN</td>\n",
       "      <td>NaN</td>\n",
       "      <td>NaN</td>\n",
       "      <td>NaN</td>\n",
       "      <td>NaN</td>\n",
       "      <td>NaN</td>\n",
       "      <td>NaN</td>\n",
       "      <td>NaN</td>\n",
       "      <td>4.0</td>\n",
       "      <td>...</td>\n",
       "      <td>NaN</td>\n",
       "      <td>NaN</td>\n",
       "      <td>NaN</td>\n",
       "      <td>NaN</td>\n",
       "      <td>NaN</td>\n",
       "      <td>NaN</td>\n",
       "      <td>NaN</td>\n",
       "      <td>NaN</td>\n",
       "      <td>NaN</td>\n",
       "      <td>NaN</td>\n",
       "    </tr>\n",
       "    <tr>\n",
       "      <th>3</th>\n",
       "      <td>NaN</td>\n",
       "      <td>NaN</td>\n",
       "      <td>NaN</td>\n",
       "      <td>NaN</td>\n",
       "      <td>NaN</td>\n",
       "      <td>NaN</td>\n",
       "      <td>NaN</td>\n",
       "      <td>NaN</td>\n",
       "      <td>NaN</td>\n",
       "      <td>NaN</td>\n",
       "      <td>...</td>\n",
       "      <td>NaN</td>\n",
       "      <td>NaN</td>\n",
       "      <td>NaN</td>\n",
       "      <td>NaN</td>\n",
       "      <td>NaN</td>\n",
       "      <td>NaN</td>\n",
       "      <td>NaN</td>\n",
       "      <td>NaN</td>\n",
       "      <td>NaN</td>\n",
       "      <td>NaN</td>\n",
       "    </tr>\n",
       "    <tr>\n",
       "      <th>4</th>\n",
       "      <td>NaN</td>\n",
       "      <td>NaN</td>\n",
       "      <td>NaN</td>\n",
       "      <td>NaN</td>\n",
       "      <td>NaN</td>\n",
       "      <td>NaN</td>\n",
       "      <td>NaN</td>\n",
       "      <td>NaN</td>\n",
       "      <td>NaN</td>\n",
       "      <td>4.0</td>\n",
       "      <td>...</td>\n",
       "      <td>NaN</td>\n",
       "      <td>NaN</td>\n",
       "      <td>NaN</td>\n",
       "      <td>NaN</td>\n",
       "      <td>NaN</td>\n",
       "      <td>NaN</td>\n",
       "      <td>NaN</td>\n",
       "      <td>NaN</td>\n",
       "      <td>NaN</td>\n",
       "      <td>NaN</td>\n",
       "    </tr>\n",
       "    <tr>\n",
       "      <th>5</th>\n",
       "      <td>NaN</td>\n",
       "      <td>NaN</td>\n",
       "      <td>4.0</td>\n",
       "      <td>NaN</td>\n",
       "      <td>NaN</td>\n",
       "      <td>NaN</td>\n",
       "      <td>NaN</td>\n",
       "      <td>NaN</td>\n",
       "      <td>NaN</td>\n",
       "      <td>NaN</td>\n",
       "      <td>...</td>\n",
       "      <td>NaN</td>\n",
       "      <td>NaN</td>\n",
       "      <td>NaN</td>\n",
       "      <td>NaN</td>\n",
       "      <td>NaN</td>\n",
       "      <td>NaN</td>\n",
       "      <td>NaN</td>\n",
       "      <td>NaN</td>\n",
       "      <td>NaN</td>\n",
       "      <td>NaN</td>\n",
       "    </tr>\n",
       "  </tbody>\n",
       "</table>\n",
       "<p>5 rows × 9066 columns</p>\n",
       "</div>"
      ],
      "text/plain": [
       "movieId  1       2       3       4       5       6       7       8       \\\n",
       "userId                                                                    \n",
       "1           NaN     NaN     NaN     NaN     NaN     NaN     NaN     NaN   \n",
       "2           NaN     NaN     NaN     NaN     NaN     NaN     NaN     NaN   \n",
       "3           NaN     NaN     NaN     NaN     NaN     NaN     NaN     NaN   \n",
       "4           NaN     NaN     NaN     NaN     NaN     NaN     NaN     NaN   \n",
       "5           NaN     NaN     4.0     NaN     NaN     NaN     NaN     NaN   \n",
       "\n",
       "movieId  9       10       ...    161084  161155  161594  161830  161918  \\\n",
       "userId                    ...                                             \n",
       "1           NaN     NaN   ...       NaN     NaN     NaN     NaN     NaN   \n",
       "2           NaN     4.0   ...       NaN     NaN     NaN     NaN     NaN   \n",
       "3           NaN     NaN   ...       NaN     NaN     NaN     NaN     NaN   \n",
       "4           NaN     4.0   ...       NaN     NaN     NaN     NaN     NaN   \n",
       "5           NaN     NaN   ...       NaN     NaN     NaN     NaN     NaN   \n",
       "\n",
       "movieId  161944  162376  162542  162672  163949  \n",
       "userId                                           \n",
       "1           NaN     NaN     NaN     NaN     NaN  \n",
       "2           NaN     NaN     NaN     NaN     NaN  \n",
       "3           NaN     NaN     NaN     NaN     NaN  \n",
       "4           NaN     NaN     NaN     NaN     NaN  \n",
       "5           NaN     NaN     NaN     NaN     NaN  \n",
       "\n",
       "[5 rows x 9066 columns]"
      ]
     },
     "execution_count": 14,
     "metadata": {},
     "output_type": "execute_result"
    }
   ],
   "source": [
    "user_rating_movies_df = user_movies.pivot_table(values='rating', columns='movieId',index='userId')\n",
    "# user_rating_movies_df.fillna(value=0)\n",
    "user_rating_movies_df.head()\n"
   ]
  },
  {
   "cell_type": "code",
   "execution_count": null,
   "metadata": {
    "collapsed": false
   },
   "outputs": [],
   "source": [
    "sns.heatmap(user_rating_movies_df.corr())"
   ]
  },
  {
   "cell_type": "code",
   "execution_count": null,
   "metadata": {
    "collapsed": false
   },
   "outputs": [],
   "source": [
    "retrieve_genres(movies)"
   ]
  },
  {
   "cell_type": "code",
   "execution_count": null,
   "metadata": {
    "collapsed": true
   },
   "outputs": [],
   "source": []
  },
  {
   "cell_type": "code",
   "execution_count": null,
   "metadata": {
    "collapsed": false
   },
   "outputs": [],
   "source": [
    "user_movies.groupby('userId')['genres'].value_counts()"
   ]
  },
  {
   "cell_type": "code",
   "execution_count": 34,
   "metadata": {
    "collapsed": false
   },
   "outputs": [],
   "source": [
    "from sklearn.preprocessing import StandardScaler"
   ]
  },
  {
   "cell_type": "code",
   "execution_count": 35,
   "metadata": {
    "collapsed": true
   },
   "outputs": [],
   "source": [
    "scaler = StandardScaler()"
   ]
  },
  {
   "cell_type": "code",
   "execution_count": 50,
   "metadata": {
    "collapsed": false
   },
   "outputs": [
    {
     "data": {
      "text/plain": [
       "StandardScaler(copy=True, with_mean=True, with_std=True)"
      ]
     },
     "execution_count": 50,
     "metadata": {},
     "output_type": "execute_result"
    }
   ],
   "source": [
    "scaler.fit(df)"
   ]
  },
  {
   "cell_type": "code",
   "execution_count": 51,
   "metadata": {
    "collapsed": true
   },
   "outputs": [],
   "source": [
    "scaled_features = scaler.transform(df)"
   ]
  },
  {
   "cell_type": "code",
   "execution_count": 52,
   "metadata": {
    "collapsed": false
   },
   "outputs": [
    {
     "data": {
      "text/html": [
       "<div>\n",
       "<table border=\"1\" class=\"dataframe\">\n",
       "  <thead>\n",
       "    <tr style=\"text-align: right;\">\n",
       "      <th></th>\n",
       "      <th>Action</th>\n",
       "      <th>Adventure</th>\n",
       "      <th>Animation</th>\n",
       "      <th>Children</th>\n",
       "      <th>Comedy</th>\n",
       "      <th>Crime</th>\n",
       "      <th>Documentary</th>\n",
       "      <th>Drama</th>\n",
       "      <th>Fantasy</th>\n",
       "      <th>Film-Noir</th>\n",
       "      <th>Horror</th>\n",
       "      <th>IMAX</th>\n",
       "      <th>Musical</th>\n",
       "      <th>Mystery</th>\n",
       "      <th>Romance</th>\n",
       "      <th>Sci-Fi</th>\n",
       "      <th>Thriller</th>\n",
       "      <th>War</th>\n",
       "      <th>Western</th>\n",
       "    </tr>\n",
       "  </thead>\n",
       "  <tbody>\n",
       "    <tr>\n",
       "      <th>0</th>\n",
       "      <td>-0.582893</td>\n",
       "      <td>-0.528924</td>\n",
       "      <td>-0.410011</td>\n",
       "      <td>-0.523699</td>\n",
       "      <td>-0.561672</td>\n",
       "      <td>-0.608555</td>\n",
       "      <td>-0.243611</td>\n",
       "      <td>-0.531620</td>\n",
       "      <td>-0.499590</td>\n",
       "      <td>-0.340012</td>\n",
       "      <td>-0.352483</td>\n",
       "      <td>-0.448777</td>\n",
       "      <td>-0.441613</td>\n",
       "      <td>-0.625676</td>\n",
       "      <td>-0.604656</td>\n",
       "      <td>-0.514132</td>\n",
       "      <td>-0.553668</td>\n",
       "      <td>-0.591921</td>\n",
       "      <td>-0.357865</td>\n",
       "    </tr>\n",
       "    <tr>\n",
       "      <th>1</th>\n",
       "      <td>-0.351861</td>\n",
       "      <td>-0.462287</td>\n",
       "      <td>-0.211466</td>\n",
       "      <td>-0.236371</td>\n",
       "      <td>-0.268175</td>\n",
       "      <td>-0.417026</td>\n",
       "      <td>-0.243611</td>\n",
       "      <td>-0.246638</td>\n",
       "      <td>-0.247320</td>\n",
       "      <td>-0.340012</td>\n",
       "      <td>-0.265656</td>\n",
       "      <td>-0.257947</td>\n",
       "      <td>-0.222169</td>\n",
       "      <td>-0.405438</td>\n",
       "      <td>-0.148175</td>\n",
       "      <td>-0.514132</td>\n",
       "      <td>-0.290980</td>\n",
       "      <td>-0.227034</td>\n",
       "      <td>-0.164370</td>\n",
       "    </tr>\n",
       "    <tr>\n",
       "      <th>2</th>\n",
       "      <td>-0.401368</td>\n",
       "      <td>-0.506712</td>\n",
       "      <td>-0.343830</td>\n",
       "      <td>-0.380035</td>\n",
       "      <td>-0.420359</td>\n",
       "      <td>-0.389665</td>\n",
       "      <td>0.069937</td>\n",
       "      <td>-0.371318</td>\n",
       "      <td>-0.457545</td>\n",
       "      <td>-0.340012</td>\n",
       "      <td>-0.265656</td>\n",
       "      <td>-0.067117</td>\n",
       "      <td>-0.368465</td>\n",
       "      <td>-0.515557</td>\n",
       "      <td>-0.409021</td>\n",
       "      <td>-0.456683</td>\n",
       "      <td>-0.466106</td>\n",
       "      <td>-0.135813</td>\n",
       "      <td>-0.357865</td>\n",
       "    </tr>\n",
       "    <tr>\n",
       "      <th>3</th>\n",
       "      <td>0.357739</td>\n",
       "      <td>0.648328</td>\n",
       "      <td>0.979806</td>\n",
       "      <td>1.343933</td>\n",
       "      <td>0.340557</td>\n",
       "      <td>0.376453</td>\n",
       "      <td>-0.034579</td>\n",
       "      <td>-0.095242</td>\n",
       "      <td>0.887895</td>\n",
       "      <td>-0.139882</td>\n",
       "      <td>0.342131</td>\n",
       "      <td>-0.353362</td>\n",
       "      <td>1.240789</td>\n",
       "      <td>-0.020022</td>\n",
       "      <td>-0.017753</td>\n",
       "      <td>0.577403</td>\n",
       "      <td>0.111809</td>\n",
       "      <td>-0.318256</td>\n",
       "      <td>-0.357865</td>\n",
       "    </tr>\n",
       "    <tr>\n",
       "      <th>4</th>\n",
       "      <td>-0.467377</td>\n",
       "      <td>-0.284589</td>\n",
       "      <td>0.053261</td>\n",
       "      <td>0.050957</td>\n",
       "      <td>-0.018160</td>\n",
       "      <td>-0.389665</td>\n",
       "      <td>0.069937</td>\n",
       "      <td>-0.246638</td>\n",
       "      <td>-0.079140</td>\n",
       "      <td>-0.340012</td>\n",
       "      <td>-0.265656</td>\n",
       "      <td>0.028297</td>\n",
       "      <td>0.216718</td>\n",
       "      <td>-0.295319</td>\n",
       "      <td>0.177882</td>\n",
       "      <td>-0.456683</td>\n",
       "      <td>-0.448593</td>\n",
       "      <td>-0.318256</td>\n",
       "      <td>-0.551361</td>\n",
       "    </tr>\n",
       "  </tbody>\n",
       "</table>\n",
       "</div>"
      ],
      "text/plain": [
       "     Action  Adventure  Animation  Children    Comedy     Crime  Documentary  \\\n",
       "0 -0.582893  -0.528924  -0.410011 -0.523699 -0.561672 -0.608555    -0.243611   \n",
       "1 -0.351861  -0.462287  -0.211466 -0.236371 -0.268175 -0.417026    -0.243611   \n",
       "2 -0.401368  -0.506712  -0.343830 -0.380035 -0.420359 -0.389665     0.069937   \n",
       "3  0.357739   0.648328   0.979806  1.343933  0.340557  0.376453    -0.034579   \n",
       "4 -0.467377  -0.284589   0.053261  0.050957 -0.018160 -0.389665     0.069937   \n",
       "\n",
       "      Drama   Fantasy  Film-Noir    Horror      IMAX   Musical   Mystery  \\\n",
       "0 -0.531620 -0.499590  -0.340012 -0.352483 -0.448777 -0.441613 -0.625676   \n",
       "1 -0.246638 -0.247320  -0.340012 -0.265656 -0.257947 -0.222169 -0.405438   \n",
       "2 -0.371318 -0.457545  -0.340012 -0.265656 -0.067117 -0.368465 -0.515557   \n",
       "3 -0.095242  0.887895  -0.139882  0.342131 -0.353362  1.240789 -0.020022   \n",
       "4 -0.246638 -0.079140  -0.340012 -0.265656  0.028297  0.216718 -0.295319   \n",
       "\n",
       "    Romance    Sci-Fi  Thriller       War   Western  \n",
       "0 -0.604656 -0.514132 -0.553668 -0.591921 -0.357865  \n",
       "1 -0.148175 -0.514132 -0.290980 -0.227034 -0.164370  \n",
       "2 -0.409021 -0.456683 -0.466106 -0.135813 -0.357865  \n",
       "3 -0.017753  0.577403  0.111809 -0.318256 -0.357865  \n",
       "4  0.177882 -0.456683 -0.448593 -0.318256 -0.551361  "
      ]
     },
     "execution_count": 52,
     "metadata": {},
     "output_type": "execute_result"
    }
   ],
   "source": [
    "df_feat = pd.DataFrame(scaled_features,columns=df.columns)\n",
    "df_feat.head()"
   ]
  },
  {
   "cell_type": "code",
   "execution_count": 53,
   "metadata": {
    "collapsed": true
   },
   "outputs": [],
   "source": [
    "from sklearn.cluster import KMeans"
   ]
  },
  {
   "cell_type": "code",
   "execution_count": 54,
   "metadata": {
    "collapsed": true
   },
   "outputs": [],
   "source": [
    "model = KMeans(n_clusters=11)"
   ]
  },
  {
   "cell_type": "code",
   "execution_count": 55,
   "metadata": {
    "collapsed": false
   },
   "outputs": [
    {
     "data": {
      "text/plain": [
       "Index(['Action', 'Adventure', 'Animation', 'Children', 'Comedy', 'Crime',\n",
       "       'Documentary', 'Drama', 'Fantasy', 'Film-Noir', 'Horror', 'IMAX',\n",
       "       'Musical', 'Mystery', 'Romance', 'Sci-Fi', 'Thriller', 'War',\n",
       "       'Western'],\n",
       "      dtype='object')"
      ]
     },
     "execution_count": 55,
     "metadata": {},
     "output_type": "execute_result"
    }
   ],
   "source": [
    "df.columns"
   ]
  },
  {
   "cell_type": "code",
   "execution_count": 56,
   "metadata": {
    "collapsed": false
   },
   "outputs": [
    {
     "data": {
      "text/plain": [
       "array([ 6,  6,  6,  0,  0,  6,  6,  0,  6,  6,  6,  6,  6,  6,  2,  6,  8,\n",
       "        6,  8,  0,  0, 10,  7,  6,  6,  0,  6,  6,  6,  1,  6,  6,  0,  0,\n",
       "        6,  0,  6,  0,  6,  6, 10,  6,  0,  6,  6,  6,  6,  8,  0,  6,  6,\n",
       "        6,  6,  6,  6,  7,  0,  6,  6,  6,  0,  6,  0,  6,  6,  6,  0,  0,\n",
       "        6,  6,  6, 10,  2,  6,  0,  6, 10, 10,  6,  6,  0,  6,  0,  0,  0,\n",
       "        0,  6,  4,  6,  6,  0,  0,  0,  0, 10,  6,  0,  6,  0,  6,  6,  7,\n",
       "        0,  6,  7,  6,  6,  6,  6,  0,  4,  6,  6,  6,  6,  6,  6,  0,  7,\n",
       "        0,  6,  6,  6,  0,  0,  6,  6,  4,  6,  8,  6,  0,  0, 10,  6,  6,\n",
       "        6,  6,  6,  6,  6,  6,  6,  6,  6,  6,  6,  0,  4,  8,  6, 10,  6,\n",
       "        6,  6,  6,  8,  6,  0,  0,  0,  6,  6,  6,  8,  6,  6,  0,  0,  6,\n",
       "        6,  6,  6,  6,  0, 10, 10,  0,  6,  6,  6,  0,  6,  6,  0,  6,  4,\n",
       "        0,  0,  6,  6,  6,  6,  6,  8,  0,  6,  6,  8, 10,  0,  6,  6,  6,\n",
       "       10,  6,  6,  6,  6,  6,  6,  9,  9,  0,  6,  6,  0,  6,  0,  4,  6,\n",
       "        6,  6,  6,  6,  6,  6,  6,  6,  0,  6,  7,  6,  0,  0,  0,  6,  0,\n",
       "        4,  4,  6,  4, 10,  6,  0,  6, 10,  0,  6,  0,  0,  6,  0,  0,  0,\n",
       "        6,  0,  6,  6,  6,  6,  7,  0,  6,  0,  6,  6,  8,  6, 10,  6,  6,\n",
       "        0,  6,  0,  6,  6,  6,  6,  6,  6,  0,  0,  6,  8,  6, 10,  6,  6,\n",
       "        6,  6,  4,  6,  9, 10,  6,  0,  6,  4,  6,  6,  6,  4,  0,  6,  7,\n",
       "        6,  6,  0,  6,  1,  4,  4,  6,  6,  0,  6,  6,  6,  6,  6,  6,  6,\n",
       "        0,  6,  6,  6,  0,  6,  6,  6,  6,  6,  6,  6,  6,  6,  6,  0,  6,\n",
       "        6,  0,  6,  0,  0, 10,  6,  6,  6,  0,  6,  6,  3,  6, 10,  6,  6,\n",
       "        7,  6,  6,  6,  0,  0,  6,  6,  6, 10,  6,  6,  0,  0,  6,  4,  6,\n",
       "        6,  6,  6,  0,  6,  9,  0,  4,  6,  3,  0,  0,  4,  7,  6,  0,  0,\n",
       "        6,  6,  0,  6,  0,  6,  6,  6,  6,  6, 10,  6,  6,  8,  6,  4,  4,\n",
       "        6,  6,  6,  0,  6,  6,  6,  0,  0,  0,  6,  6,  6,  6,  4,  6,  6,\n",
       "       10,  4,  0,  6, 10,  4,  6,  0,  0,  6,  6,  6,  6,  4,  6,  0,  0,\n",
       "        6,  6,  6,  6,  6,  6,  6,  0,  6,  1,  0,  6,  6,  6,  7,  6,  6,\n",
       "        4,  7,  6,  8,  6,  6,  0,  6,  1,  6,  6, 10,  7,  6,  6,  3,  6,\n",
       "        6,  6,  0,  8,  8,  6,  0,  6,  6,  0,  0,  6,  6,  6,  6,  6,  0,\n",
       "        6,  6,  0,  0,  6,  6,  4,  0,  0,  6,  6,  4,  6,  6,  6,  1,  0,\n",
       "        6,  6,  6,  4,  6,  0,  6,  7,  0,  0,  6,  4,  0,  6,  0,  6,  0,\n",
       "        0,  7,  6,  0,  6,  0, 10,  6,  0,  4,  6,  6,  6,  6,  6,  6,  4,\n",
       "        6,  6,  5,  0,  6,  0,  6,  6, 10,  6,  6,  6,  6,  0,  0,  0, 10,\n",
       "       10,  0,  2,  6,  6,  6,  6,  6,  0,  6,  0,  6,  8,  7,  6, 10,  6,\n",
       "        6,  9,  6,  0,  6,  0,  4,  6,  7,  6,  6,  6,  6,  0,  6,  6,  0,\n",
       "        8,  0,  4,  0,  6,  6,  0,  0,  6,  4,  6,  8,  4,  0,  0,  6,  6,\n",
       "        6,  0,  8,  6,  6,  6,  6,  0,  6,  6,  0,  2,  6,  0,  0,  6,  6,\n",
       "        6,  6,  6,  6,  6,  6,  6,  6,  6,  6,  6,  0,  6,  6,  6,  6,  0,\n",
       "        0,  4,  0,  6,  6,  4,  6,  7,  0,  0,  6,  6,  0,  0,  6,  6,  6,\n",
       "        3,  4,  6,  6,  6,  6,  6,  0], dtype=int32)"
      ]
     },
     "execution_count": 56,
     "metadata": {},
     "output_type": "execute_result"
    }
   ],
   "source": [
    "model.fit_predict(df[['Action', 'Adventure', 'Animation', 'Children', 'Comedy', 'Crime',\n",
    "       'Documentary', 'Drama', 'Fantasy', 'Film-Noir', 'Horror', 'IMAX',\n",
    "       'Musical', 'Mystery', 'Romance', 'Sci-Fi', 'Thriller', 'War',\n",
    "       'Western']])"
   ]
  },
  {
   "cell_type": "code",
   "execution_count": 28,
   "metadata": {
    "collapsed": false
   },
   "outputs": [],
   "source": [
    "import numpy as np"
   ]
  },
  {
   "cell_type": "code",
   "execution_count": 32,
   "metadata": {
    "collapsed": false
   },
   "outputs": [
    {
     "data": {
      "text/plain": [
       "array([ 0,  1,  2,  3,  4,  5,  6,  7,  8,  9, 10, 11, 12, 13, 14, 15, 16,\n",
       "       17, 18], dtype=int32)"
      ]
     },
     "execution_count": 32,
     "metadata": {},
     "output_type": "execute_result"
    }
   ],
   "source": [
    "np.unique(model.labels_)"
   ]
  },
  {
   "cell_type": "code",
   "execution_count": 35,
   "metadata": {
    "collapsed": false
   },
   "outputs": [],
   "source": [
    "unique, counts = np.unique(model.labels_, return_counts=True)"
   ]
  },
  {
   "cell_type": "code",
   "execution_count": 37,
   "metadata": {
    "collapsed": false
   },
   "outputs": [
    {
     "data": {
      "text/plain": [
       "{0: 19,\n",
       " 1: 8,\n",
       " 2: 3,\n",
       " 3: 51,\n",
       " 4: 27,\n",
       " 5: 4,\n",
       " 6: 330,\n",
       " 7: 13,\n",
       " 8: 1,\n",
       " 9: 1,\n",
       " 10: 1,\n",
       " 11: 25,\n",
       " 12: 6,\n",
       " 13: 6,\n",
       " 14: 1,\n",
       " 15: 150,\n",
       " 16: 6,\n",
       " 17: 1,\n",
       " 18: 18}"
      ]
     },
     "execution_count": 37,
     "metadata": {},
     "output_type": "execute_result"
    }
   ],
   "source": [
    "dict(zip(unique, counts))"
   ]
  },
  {
   "cell_type": "code",
   "execution_count": 38,
   "metadata": {
    "collapsed": false
   },
   "outputs": [
    {
     "data": {
      "text/plain": [
       "array([ 19,   8,   3,  51,  27,   4, 330,  13,   1,   1,   1,  25,   6,\n",
       "         6,   1, 150,   6,   1,  18])"
      ]
     },
     "execution_count": 38,
     "metadata": {},
     "output_type": "execute_result"
    }
   ],
   "source": []
  },
  {
   "cell_type": "code",
   "execution_count": 77,
   "metadata": {
    "collapsed": false
   },
   "outputs": [
    {
     "data": {
      "text/plain": [
       "Index([u'Action', u'Adventure', u'Animation', u'Children', u'Comedy', u'Crime',\n",
       "       u'Documentary', u'Drama', u'Fantasy', u'Film-Noir', u'Horror', u'IMAX',\n",
       "       u'Musical', u'Mystery', u'Romance', u'Sci-Fi', u'Thriller', u'War',\n",
       "       u'Western'],\n",
       "      dtype='object')"
      ]
     },
     "execution_count": 77,
     "metadata": {},
     "output_type": "execute_result"
    }
   ],
   "source": [
    "df_feature.columns"
   ]
  },
  {
   "cell_type": "code",
   "execution_count": 75,
   "metadata": {
    "collapsed": true
   },
   "outputs": [],
   "source": [
    "from sklearn.cluster import KMeans"
   ]
  },
  {
   "cell_type": "code",
   "execution_count": 76,
   "metadata": {
    "collapsed": true
   },
   "outputs": [],
   "source": [
    "model = KMeans(n_clusters=11)"
   ]
  },
  {
   "cell_type": "code",
   "execution_count": 78,
   "metadata": {
    "collapsed": false
   },
   "outputs": [
    {
     "data": {
      "text/plain": [
       "array([ 1,  1,  1,  0,  7,  1,  7,  7,  1,  1,  1,  1,  1,  1,  6,  1, 10,\n",
       "        1, 10,  7,  7,  9,  3,  1,  1,  7,  1,  1,  1,  3,  1,  1,  1,  7,\n",
       "        1,  1,  1,  7,  1,  1,  9,  7,  1,  1,  1,  1,  1,  4,  7,  1,  1,\n",
       "        1,  1,  1,  1, 10,  7,  1,  1,  1,  0,  1,  7,  1,  1,  1,  7,  7,\n",
       "        7,  1,  1,  7,  6,  1,  7,  1,  9,  9,  1,  1,  7,  1,  7,  7,  7,\n",
       "        7,  1,  0,  7,  1,  0,  7,  0,  7,  8,  1,  7,  1,  0,  1,  1,  3,\n",
       "        7,  7, 10,  1,  1,  1,  1,  7,  0,  1,  1,  1,  1,  1,  1,  7, 10,\n",
       "        7,  1,  1,  1,  7,  0,  1,  1,  0,  1,  9,  1,  7,  7,  9,  1,  1,\n",
       "        7,  1,  1,  1,  1,  1,  1,  1,  1,  7,  1,  7,  0,  9,  1,  9,  1,\n",
       "        1,  1,  1,  9,  1,  7,  1,  1,  1,  1,  1,  9,  1,  1,  7,  0,  1,\n",
       "        1,  1,  1,  1,  0,  0,  9,  7,  1,  1,  1,  7,  1,  1,  0,  1,  0,\n",
       "        7,  7,  1,  1,  1,  1,  1, 10,  1,  1,  1,  9,  0,  7,  1,  1,  1,\n",
       "        0,  1,  1,  1,  1,  1,  1,  2,  4,  7,  1,  7,  7,  1,  7,  7,  1,\n",
       "        1,  1,  1,  1,  1,  1,  1,  1,  1,  1,  3,  1,  7,  7, 10,  1,  1,\n",
       "        0,  0,  1, 10,  9,  1,  7,  1,  9,  7,  1,  0,  0,  1,  7,  7,  7,\n",
       "        1,  7,  1,  1,  1,  1,  8,  7,  1,  7,  1,  1,  9,  1,  9,  1,  1,\n",
       "        7,  1,  0,  1,  1,  1,  1,  1,  7,  7,  7,  1,  9,  1,  4,  1,  1,\n",
       "        7,  7,  0,  1,  2,  0,  1,  7,  7, 10,  1,  1,  1,  0,  7,  1, 10,\n",
       "        1,  1,  7,  1,  3,  7,  0,  1,  1,  7,  1,  1,  1,  1,  1,  1,  1,\n",
       "        7,  1,  1,  1,  0,  1,  1,  1,  1,  7,  1,  1,  1,  1,  1,  7,  1,\n",
       "        1,  7,  1,  7,  7,  9,  1,  1,  1,  7,  1,  7,  9,  1,  9,  1,  1,\n",
       "       10,  1,  1,  1,  7,  0,  1,  1,  1,  7,  1,  1,  7,  7,  1,  7,  1,\n",
       "        1,  1,  1,  7,  1,  4,  7,  0,  1,  9,  1,  1, 10,  3,  1,  7,  1,\n",
       "        1,  1,  7,  1,  7,  1,  1,  1,  1,  7,  9,  1,  1, 10,  7,  0,  7,\n",
       "        1,  1,  1,  7,  1,  1,  1,  1,  7,  0,  1,  7,  1,  1, 10,  1,  1,\n",
       "        9,  7,  0,  1,  9,  0,  1,  7,  7,  1,  1,  1,  1,  7,  1,  7,  0,\n",
       "        1,  1,  1,  1,  1,  1,  1,  7,  1,  3,  7,  1,  1,  7, 10,  1,  1,\n",
       "        0,  9,  1,  9,  1,  1,  0,  1,  3,  1,  1,  0,  3,  7,  1,  4,  1,\n",
       "        1,  7,  7,  9, 10,  1,  7,  1,  1,  7,  7,  1,  1,  1,  1,  1,  1,\n",
       "        1,  1,  7,  1,  1,  1,  0,  0,  7,  1,  1, 10,  1,  1,  1,  3,  7,\n",
       "        1,  1,  1, 10,  1,  7,  1,  2,  7,  7,  1,  7,  7,  1,  7,  1,  7,\n",
       "        7, 10,  7,  0,  1,  7,  9,  1,  7, 10,  1,  1,  1,  1,  7,  1,  9,\n",
       "        1,  7,  5,  7,  1,  7,  7,  1,  9,  1,  1,  1,  1,  7,  7,  7,  9,\n",
       "        9,  7,  6,  1,  1,  1,  1,  7,  7,  1,  7,  1,  9, 10,  1,  9,  1,\n",
       "        1,  2,  1,  0,  1,  0, 10,  1, 10,  1,  1,  7,  1,  7,  1,  1,  0,\n",
       "       10, 10,  0,  0,  1,  1,  7,  0,  1,  0,  1,  9, 10,  1,  1,  1,  1,\n",
       "        1,  1,  9,  1,  1,  1,  1,  0,  7,  1,  7,  6,  7,  7,  7,  1,  1,\n",
       "        1,  1,  1,  1,  1,  1,  1,  1,  1,  1,  1,  7,  1,  1,  1,  1,  0,\n",
       "        7,  7,  1,  1,  1,  0,  1,  2,  7,  7,  1,  1,  7,  0,  1,  1,  1,\n",
       "        4,  0,  1,  1,  1,  1,  1,  7], dtype=int32)"
      ]
     },
     "execution_count": 78,
     "metadata": {},
     "output_type": "execute_result"
    }
   ],
   "source": [
    "model.fit_predict(df_feature[['Action', 'Adventure', 'Animation', 'Children', 'Comedy', 'Crime',\n",
    "       'Documentary', 'Drama', 'Fantasy', 'Film-Noir', 'Horror', 'IMAX',\n",
    "       'Musical', 'Mystery', 'Romance', 'Sci-Fi', 'Thriller', 'War',\n",
    "       'Western']])"
   ]
  },
  {
   "cell_type": "code",
   "execution_count": 80,
   "metadata": {
    "collapsed": false
   },
   "outputs": [],
   "source": [
    "import matplotlib.pyplot as plt"
   ]
  },
  {
   "cell_type": "code",
   "execution_count": 81,
   "metadata": {
    "collapsed": true
   },
   "outputs": [],
   "source": [
    "%matplotlib inline"
   ]
  },
  {
   "cell_type": "code",
   "execution_count": 84,
   "metadata": {
    "collapsed": false
   },
   "outputs": [
    {
     "data": {
      "text/plain": [
       "<matplotlib.collections.PathCollection at 0x1189a11d0>"
      ]
     },
     "execution_count": 84,
     "metadata": {},
     "output_type": "execute_result"
    },
    {
     "data": {
      "image/png": "[encoded data removed]",
      "text/plain": [
       "<matplotlib.figure.Figure at 0x1188a2b50>"
      ]
     },
     "metadata": {},
     "output_type": "display_data"
    }
   ],
   "source": [
    "plt.scatter(df_feature['Action'], df_feature['Adventure'], c=model.labels_, cmap='rainbow')"
   ]
  },
  {
   "cell_type": "code",
   "execution_count": null,
   "metadata": {
    "collapsed": true
   },
   "outputs": [],
   "source": []
  }
 ],
 "metadata": {
  "anaconda-cloud": {},
  "kernelspec": {
   "display_name": "Python [conda root]",
   "language": "python",
   "name": "conda-root-py"
  },
  "language_info": {
   "codemirror_mode": {
    "name": "ipython",
    "version": 3
   },
   "file_extension": ".py",
   "mimetype": "text/x-python",
   "name": "python",
   "nbconvert_exporter": "python",
   "pygments_lexer": "ipython3",
   "version": "3.5.2"
  }
 },
 "nbformat": 4,
 "nbformat_minor": 1
}
